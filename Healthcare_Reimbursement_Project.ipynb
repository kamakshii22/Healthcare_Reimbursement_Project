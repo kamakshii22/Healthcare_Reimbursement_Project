{
 "cells": [
  {
   "cell_type": "markdown",
   "id": "116c5e48-898d-476f-9bb0-f7b7f9ebd85e",
   "metadata": {},
   "source": [
    "# Predicting Future Healthcare Reimbursements"
   ]
  },
  {
   "cell_type": "markdown",
   "id": "44f79853-2277-4dc0-956a-e68045ad17b5",
   "metadata": {},
   "source": [
    "## Introduction"
   ]
  },
  {
   "cell_type": "markdown",
   "id": "bf778355-44c1-495c-b354-6a59a4974d29",
   "metadata": {},
   "source": [
    "In this project, we delve into the critical task of developing a predictive model to forecast future Medicare reimbursements, aiding healthcare providers and policymakers in strategic decision-making and enhancing healthcare analytics.\n",
    "\n",
    "**Problem Statement**\n",
    "\n",
    "The healthcare sector faces ongoing challenges in effectively allocating resources and planning budgets, especially concerning uncertainties in Medicare reimbursements. Accurate prediction of future reimbursements is vital for optimizing resource allocation, financial planning, and proactive decision-making.\n",
    "\n",
    "**Objective**\n",
    "\n",
    "The primary goal of this project is to develop a *robust predictive model capable of accurately forecasting future Medicare reimbursements based on historical data and external factors*. By doing so, we aim to empower healthcare organizations with actionable insights to support optimal resource allocation, financial stability, and improved patient care.\n",
    "\n",
    "**Dataset Description**\n",
    "\n",
    "Our dataset comprises comprehensive information related to Medicare enrollees, reimbursement amounts, healthcare services, and demographic factors.\n",
    "\n",
    "**Type of ML Task**\n",
    "\n",
    "This project involves regression-based supervised machine learning as we endeavor to predict continuous values representing future Medicare reimbursements."
   ]
  },
  {
   "cell_type": "markdown",
   "id": "fd55bb77-8d0b-4511-a687-bffe8307c6a0",
   "metadata": {},
   "source": [
    "## Importing Essentials"
   ]
  },
  {
   "cell_type": "code",
   "execution_count": 1,
   "id": "5ffac81e-a62c-40c5-8e5b-4901de7e50ba",
   "metadata": {},
   "outputs": [],
   "source": [
    "import pandas as pd\n",
    "import numpy as np\n",
    "import matplotlib.pyplot as plt\n",
    "import seaborn as sns\n",
    "\n",
    "from scipy.stats import shapiro\n",
    "\n",
    "from sklearn.model_selection import train_test_split\n",
    "import category_encoders as ce\n",
    "from sklearn.preprocessing import MinMaxScaler\n",
    "\n",
    "from sklearn.linear_model import LinearRegression\n",
    "from sklearn.ensemble import RandomForestRegressor , GradientBoostingRegressor\n",
    "\n",
    "from sklearn.metrics import mean_absolute_error, mean_squared_error, r2_score\n",
    "\n",
    "import warnings \n",
    "warnings.filterwarnings('ignore')"
   ]
  },
  {
   "cell_type": "markdown",
   "id": "d987ce60-6c76-457c-8765-b844e73031d0",
   "metadata": {},
   "source": [
    "## Loading Dataset"
   ]
  },
  {
   "cell_type": "code",
   "execution_count": 2,
   "id": "faff4f73-fad5-4eb3-9813-72e0f791884f",
   "metadata": {},
   "outputs": [
    {
     "data": {
      "text/html": [
       "<div>\n",
       "<style scoped>\n",
       "    .dataframe tbody tr th:only-of-type {\n",
       "        vertical-align: middle;\n",
       "    }\n",
       "\n",
       "    .dataframe tbody tr th {\n",
       "        vertical-align: top;\n",
       "    }\n",
       "\n",
       "    .dataframe thead th {\n",
       "        text-align: right;\n",
       "    }\n",
       "</style>\n",
       "<table border=\"1\" class=\"dataframe\">\n",
       "  <thead>\n",
       "    <tr style=\"text-align: right;\">\n",
       "      <th></th>\n",
       "      <th>State #</th>\n",
       "      <th>State name</th>\n",
       "      <th>Medicare enrollees (2014)</th>\n",
       "      <th>Total Medicare reimbursements per enrollee (Parts A and B) (2014)</th>\n",
       "      <th>Unnamed: 4</th>\n",
       "      <th>Hospital &amp; skilled nursing facility reimbursements per enrollee (2014)</th>\n",
       "      <th>Unnamed: 6</th>\n",
       "      <th>Physician reimbursements per enrollee (2014)</th>\n",
       "      <th>Unnamed: 8</th>\n",
       "      <th>Outpatient facility reimbursements per enrollee (2014)</th>\n",
       "      <th>Unnamed: 10</th>\n",
       "      <th>Home health agency reimbursements per enrollee (2014)</th>\n",
       "      <th>Unnamed: 12</th>\n",
       "      <th>Hospice reimbursements per enrollee (2014)</th>\n",
       "      <th>Unnamed: 14</th>\n",
       "      <th>Durable medical equipment reimbursements per enrollee (2014)</th>\n",
       "      <th>Unnamed: 16</th>\n",
       "    </tr>\n",
       "  </thead>\n",
       "  <tbody>\n",
       "    <tr>\n",
       "      <th>0</th>\n",
       "      <td>NaN</td>\n",
       "      <td>NaN</td>\n",
       "      <td>NaN</td>\n",
       "      <td>Age, sex &amp; race-adjusted</td>\n",
       "      <td>Price, age, sex &amp; race-adjusted</td>\n",
       "      <td>Age, sex &amp; race-adjusted</td>\n",
       "      <td>Price, age, sex &amp; race-adjusted</td>\n",
       "      <td>Age, sex &amp; race-adjusted</td>\n",
       "      <td>Price, age, sex &amp; race-adjusted</td>\n",
       "      <td>Age, sex &amp; race-adjusted</td>\n",
       "      <td>Price, age, sex &amp; race-adjusted</td>\n",
       "      <td>Age, sex &amp; race-adjusted</td>\n",
       "      <td>Price, age, sex &amp; race-adjusted</td>\n",
       "      <td>Age, sex &amp; race-adjusted</td>\n",
       "      <td>Price, age, sex &amp; race-adjusted</td>\n",
       "      <td>Age, sex &amp; race-adjusted</td>\n",
       "      <td>Price, age, sex &amp; race-adjusted</td>\n",
       "    </tr>\n",
       "    <tr>\n",
       "      <th>1</th>\n",
       "      <td>1.0</td>\n",
       "      <td>Alabama</td>\n",
       "      <td>494966.0</td>\n",
       "      <td>8680.93</td>\n",
       "      <td>9961.85</td>\n",
       "      <td>3447.21</td>\n",
       "      <td>4265.82</td>\n",
       "      <td>2578.5</td>\n",
       "      <td>2726.52</td>\n",
       "      <td>1351.84</td>\n",
       "      <td>1516.79</td>\n",
       "      <td>551.11</td>\n",
       "      <td>629.12</td>\n",
       "      <td>543.02</td>\n",
       "      <td>634.98</td>\n",
       "      <td>228.69</td>\n",
       "      <td>213.37</td>\n",
       "    </tr>\n",
       "    <tr>\n",
       "      <th>2</th>\n",
       "      <td>2.0</td>\n",
       "      <td>Alaska</td>\n",
       "      <td>56634.0</td>\n",
       "      <td>8702.62</td>\n",
       "      <td>6970.83</td>\n",
       "      <td>4101.69</td>\n",
       "      <td>3076.14</td>\n",
       "      <td>2334.08</td>\n",
       "      <td>1970.81</td>\n",
       "      <td>1660.47</td>\n",
       "      <td>1389.1</td>\n",
       "      <td>208.51</td>\n",
       "      <td>175.87</td>\n",
       "      <td>185.3</td>\n",
       "      <td>172.32</td>\n",
       "      <td>117.97</td>\n",
       "      <td>107.53</td>\n",
       "    </tr>\n",
       "    <tr>\n",
       "      <th>3</th>\n",
       "      <td>3.0</td>\n",
       "      <td>Arizona</td>\n",
       "      <td>507408.0</td>\n",
       "      <td>9068.12</td>\n",
       "      <td>8976.52</td>\n",
       "      <td>3652.01</td>\n",
       "      <td>3615.96</td>\n",
       "      <td>3211.26</td>\n",
       "      <td>3210.19</td>\n",
       "      <td>1211.14</td>\n",
       "      <td>1179.69</td>\n",
       "      <td>317.93</td>\n",
       "      <td>307.46</td>\n",
       "      <td>489.33</td>\n",
       "      <td>471.87</td>\n",
       "      <td>176.23</td>\n",
       "      <td>180.06</td>\n",
       "    </tr>\n",
       "    <tr>\n",
       "      <th>4</th>\n",
       "      <td>4.0</td>\n",
       "      <td>Arkansas</td>\n",
       "      <td>332791.0</td>\n",
       "      <td>8466.95</td>\n",
       "      <td>9544.49</td>\n",
       "      <td>3861.26</td>\n",
       "      <td>4616.55</td>\n",
       "      <td>2230.52</td>\n",
       "      <td>2342.91</td>\n",
       "      <td>1388.91</td>\n",
       "      <td>1538.26</td>\n",
       "      <td>409.23</td>\n",
       "      <td>458.16</td>\n",
       "      <td>342.15</td>\n",
       "      <td>365.25</td>\n",
       "      <td>234.63</td>\n",
       "      <td>226.04</td>\n",
       "    </tr>\n",
       "  </tbody>\n",
       "</table>\n",
       "</div>"
      ],
      "text/plain": [
       "   State # State name  Medicare enrollees (2014)  \\\n",
       "0      NaN        NaN                        NaN   \n",
       "1      1.0    Alabama                   494966.0   \n",
       "2      2.0     Alaska                    56634.0   \n",
       "3      3.0    Arizona                   507408.0   \n",
       "4      4.0   Arkansas                   332791.0   \n",
       "\n",
       "  Total Medicare reimbursements per enrollee (Parts A and B) (2014)  \\\n",
       "0                           Age, sex & race-adjusted                  \n",
       "1                                            8680.93                  \n",
       "2                                            8702.62                  \n",
       "3                                            9068.12                  \n",
       "4                                            8466.95                  \n",
       "\n",
       "                        Unnamed: 4  \\\n",
       "0  Price, age, sex & race-adjusted   \n",
       "1                          9961.85   \n",
       "2                          6970.83   \n",
       "3                          8976.52   \n",
       "4                          9544.49   \n",
       "\n",
       "  Hospital & skilled nursing facility reimbursements per enrollee (2014)  \\\n",
       "0                           Age, sex & race-adjusted                       \n",
       "1                                            3447.21                       \n",
       "2                                            4101.69                       \n",
       "3                                            3652.01                       \n",
       "4                                            3861.26                       \n",
       "\n",
       "                        Unnamed: 6  \\\n",
       "0  Price, age, sex & race-adjusted   \n",
       "1                          4265.82   \n",
       "2                          3076.14   \n",
       "3                          3615.96   \n",
       "4                          4616.55   \n",
       "\n",
       "  Physician reimbursements per enrollee (2014)  \\\n",
       "0                     Age, sex & race-adjusted   \n",
       "1                                       2578.5   \n",
       "2                                      2334.08   \n",
       "3                                      3211.26   \n",
       "4                                      2230.52   \n",
       "\n",
       "                        Unnamed: 8  \\\n",
       "0  Price, age, sex & race-adjusted   \n",
       "1                          2726.52   \n",
       "2                          1970.81   \n",
       "3                          3210.19   \n",
       "4                          2342.91   \n",
       "\n",
       "  Outpatient facility reimbursements per enrollee (2014)  \\\n",
       "0                           Age, sex & race-adjusted       \n",
       "1                                            1351.84       \n",
       "2                                            1660.47       \n",
       "3                                            1211.14       \n",
       "4                                            1388.91       \n",
       "\n",
       "                       Unnamed: 10  \\\n",
       "0  Price, age, sex & race-adjusted   \n",
       "1                          1516.79   \n",
       "2                           1389.1   \n",
       "3                          1179.69   \n",
       "4                          1538.26   \n",
       "\n",
       "  Home health agency reimbursements per enrollee (2014)  \\\n",
       "0                           Age, sex & race-adjusted      \n",
       "1                                             551.11      \n",
       "2                                             208.51      \n",
       "3                                             317.93      \n",
       "4                                             409.23      \n",
       "\n",
       "                       Unnamed: 12 Hospice reimbursements per enrollee (2014)  \\\n",
       "0  Price, age, sex & race-adjusted                   Age, sex & race-adjusted   \n",
       "1                           629.12                                     543.02   \n",
       "2                           175.87                                      185.3   \n",
       "3                           307.46                                     489.33   \n",
       "4                           458.16                                     342.15   \n",
       "\n",
       "                       Unnamed: 14  \\\n",
       "0  Price, age, sex & race-adjusted   \n",
       "1                           634.98   \n",
       "2                           172.32   \n",
       "3                           471.87   \n",
       "4                           365.25   \n",
       "\n",
       "  Durable medical equipment reimbursements per enrollee (2014)  \\\n",
       "0                           Age, sex & race-adjusted             \n",
       "1                                             228.69             \n",
       "2                                             117.97             \n",
       "3                                             176.23             \n",
       "4                                             234.63             \n",
       "\n",
       "                       Unnamed: 16  \n",
       "0  Price, age, sex & race-adjusted  \n",
       "1                           213.37  \n",
       "2                           107.53  \n",
       "3                           180.06  \n",
       "4                           226.04  "
      ]
     },
     "execution_count": 2,
     "metadata": {},
     "output_type": "execute_result"
    }
   ],
   "source": [
    "df_state = pd.read_excel('pa_reimb_state_2014.xlsx')\n",
    "df_state.head()"
   ]
  },
  {
   "cell_type": "code",
   "execution_count": 3,
   "id": "2d7890d8-7a90-4aee-a15e-c90b24469d2d",
   "metadata": {},
   "outputs": [
    {
     "data": {
      "text/html": [
       "<div>\n",
       "<style scoped>\n",
       "    .dataframe tbody tr th:only-of-type {\n",
       "        vertical-align: middle;\n",
       "    }\n",
       "\n",
       "    .dataframe tbody tr th {\n",
       "        vertical-align: top;\n",
       "    }\n",
       "\n",
       "    .dataframe thead th {\n",
       "        text-align: right;\n",
       "    }\n",
       "</style>\n",
       "<table border=\"1\" class=\"dataframe\">\n",
       "  <thead>\n",
       "    <tr style=\"text-align: right;\">\n",
       "      <th></th>\n",
       "      <th>County ID</th>\n",
       "      <th>County name</th>\n",
       "      <th>Medicare enrollees (2014)</th>\n",
       "      <th>Total Medicare reimbursements per enrollee (Parts A and B) (2014)</th>\n",
       "      <th>Unnamed: 4</th>\n",
       "      <th>Hospital &amp; skilled nursing facility reimbursements per enrollee (2014)</th>\n",
       "      <th>Unnamed: 6</th>\n",
       "      <th>Physician reimbursements per enrollee (2014)</th>\n",
       "      <th>Unnamed: 8</th>\n",
       "      <th>Outpatient facility reimbursements per enrollee (2014)</th>\n",
       "      <th>Unnamed: 10</th>\n",
       "      <th>Home health agency reimbursements per enrollee (2014)</th>\n",
       "      <th>Unnamed: 12</th>\n",
       "      <th>Hospice reimbursements per enrollee (2014)</th>\n",
       "      <th>Unnamed: 14</th>\n",
       "      <th>Durable medical equipment reimbursements per enrollee (2014)</th>\n",
       "      <th>Unnamed: 16</th>\n",
       "    </tr>\n",
       "  </thead>\n",
       "  <tbody>\n",
       "    <tr>\n",
       "      <th>0</th>\n",
       "      <td>NaN</td>\n",
       "      <td>NaN</td>\n",
       "      <td>NaN</td>\n",
       "      <td>Age, sex &amp; race-adjusted</td>\n",
       "      <td>Price, age, sex &amp; race-adjusted</td>\n",
       "      <td>Age, sex &amp; race-adjusted</td>\n",
       "      <td>Price, age, sex &amp; race-adjusted</td>\n",
       "      <td>Age, sex &amp; race-adjusted</td>\n",
       "      <td>Price, age, sex &amp; race-adjusted</td>\n",
       "      <td>Age, sex &amp; race-adjusted</td>\n",
       "      <td>Price, age, sex &amp; race-adjusted</td>\n",
       "      <td>Age, sex &amp; race-adjusted</td>\n",
       "      <td>Price, age, sex &amp; race-adjusted</td>\n",
       "      <td>Age, sex &amp; race-adjusted</td>\n",
       "      <td>Price, age, sex &amp; race-adjusted</td>\n",
       "      <td>Age, sex &amp; race-adjusted</td>\n",
       "      <td>Price, age, sex &amp; race-adjusted</td>\n",
       "    </tr>\n",
       "    <tr>\n",
       "      <th>1</th>\n",
       "      <td>1001.0</td>\n",
       "      <td>AL-Autauga County</td>\n",
       "      <td>4649.0</td>\n",
       "      <td>8498.6</td>\n",
       "      <td>9858.62</td>\n",
       "      <td>3223.91</td>\n",
       "      <td>4053.2</td>\n",
       "      <td>2371.46</td>\n",
       "      <td>2539.18</td>\n",
       "      <td>1711.69</td>\n",
       "      <td>1948.61</td>\n",
       "      <td>419.55</td>\n",
       "      <td>476.88</td>\n",
       "      <td>520.74</td>\n",
       "      <td>627.51</td>\n",
       "      <td>251.58</td>\n",
       "      <td>232.72</td>\n",
       "    </tr>\n",
       "    <tr>\n",
       "      <th>2</th>\n",
       "      <td>1003.0</td>\n",
       "      <td>AL-Baldwin County</td>\n",
       "      <td>22607.0</td>\n",
       "      <td>8028.73</td>\n",
       "      <td>9412.78</td>\n",
       "      <td>2809.21</td>\n",
       "      <td>3695.9</td>\n",
       "      <td>2689.56</td>\n",
       "      <td>2846.65</td>\n",
       "      <td>1309.54</td>\n",
       "      <td>1519.31</td>\n",
       "      <td>575.77</td>\n",
       "      <td>682.03</td>\n",
       "      <td>385.12</td>\n",
       "      <td>451.39</td>\n",
       "      <td>247.73</td>\n",
       "      <td>226.87</td>\n",
       "    </tr>\n",
       "    <tr>\n",
       "      <th>3</th>\n",
       "      <td>1005.0</td>\n",
       "      <td>AL-Barbour County</td>\n",
       "      <td>3037.0</td>\n",
       "      <td>8707.97</td>\n",
       "      <td>10117.09</td>\n",
       "      <td>3367.89</td>\n",
       "      <td>4167.67</td>\n",
       "      <td>2441.77</td>\n",
       "      <td>2609.6</td>\n",
       "      <td>1522.81</td>\n",
       "      <td>1769.72</td>\n",
       "      <td>538.92</td>\n",
       "      <td>628.08</td>\n",
       "      <td>613.4</td>\n",
       "      <td>731.4</td>\n",
       "      <td>255.88</td>\n",
       "      <td>235.11</td>\n",
       "    </tr>\n",
       "    <tr>\n",
       "      <th>4</th>\n",
       "      <td>1007.0</td>\n",
       "      <td>AL-Bibb County</td>\n",
       "      <td>1839.0</td>\n",
       "      <td>9809.13</td>\n",
       "      <td>10817.25</td>\n",
       "      <td>4100.45</td>\n",
       "      <td>4740.37</td>\n",
       "      <td>2559.38</td>\n",
       "      <td>2668.62</td>\n",
       "      <td>1672.08</td>\n",
       "      <td>1808.62</td>\n",
       "      <td>901.38</td>\n",
       "      <td>967.68</td>\n",
       "      <td>425.74</td>\n",
       "      <td>482.73</td>\n",
       "      <td>181.96</td>\n",
       "      <td>192.73</td>\n",
       "    </tr>\n",
       "  </tbody>\n",
       "</table>\n",
       "</div>"
      ],
      "text/plain": [
       "   County ID        County name  Medicare enrollees (2014)  \\\n",
       "0        NaN                NaN                        NaN   \n",
       "1     1001.0  AL-Autauga County                     4649.0   \n",
       "2     1003.0  AL-Baldwin County                    22607.0   \n",
       "3     1005.0  AL-Barbour County                     3037.0   \n",
       "4     1007.0     AL-Bibb County                     1839.0   \n",
       "\n",
       "  Total Medicare reimbursements per enrollee (Parts A and B) (2014)  \\\n",
       "0                           Age, sex & race-adjusted                  \n",
       "1                                             8498.6                  \n",
       "2                                            8028.73                  \n",
       "3                                            8707.97                  \n",
       "4                                            9809.13                  \n",
       "\n",
       "                        Unnamed: 4  \\\n",
       "0  Price, age, sex & race-adjusted   \n",
       "1                          9858.62   \n",
       "2                          9412.78   \n",
       "3                         10117.09   \n",
       "4                         10817.25   \n",
       "\n",
       "  Hospital & skilled nursing facility reimbursements per enrollee (2014)  \\\n",
       "0                           Age, sex & race-adjusted                       \n",
       "1                                            3223.91                       \n",
       "2                                            2809.21                       \n",
       "3                                            3367.89                       \n",
       "4                                            4100.45                       \n",
       "\n",
       "                        Unnamed: 6  \\\n",
       "0  Price, age, sex & race-adjusted   \n",
       "1                           4053.2   \n",
       "2                           3695.9   \n",
       "3                          4167.67   \n",
       "4                          4740.37   \n",
       "\n",
       "  Physician reimbursements per enrollee (2014)  \\\n",
       "0                     Age, sex & race-adjusted   \n",
       "1                                      2371.46   \n",
       "2                                      2689.56   \n",
       "3                                      2441.77   \n",
       "4                                      2559.38   \n",
       "\n",
       "                        Unnamed: 8  \\\n",
       "0  Price, age, sex & race-adjusted   \n",
       "1                          2539.18   \n",
       "2                          2846.65   \n",
       "3                           2609.6   \n",
       "4                          2668.62   \n",
       "\n",
       "  Outpatient facility reimbursements per enrollee (2014)  \\\n",
       "0                           Age, sex & race-adjusted       \n",
       "1                                            1711.69       \n",
       "2                                            1309.54       \n",
       "3                                            1522.81       \n",
       "4                                            1672.08       \n",
       "\n",
       "                       Unnamed: 10  \\\n",
       "0  Price, age, sex & race-adjusted   \n",
       "1                          1948.61   \n",
       "2                          1519.31   \n",
       "3                          1769.72   \n",
       "4                          1808.62   \n",
       "\n",
       "  Home health agency reimbursements per enrollee (2014)  \\\n",
       "0                           Age, sex & race-adjusted      \n",
       "1                                             419.55      \n",
       "2                                             575.77      \n",
       "3                                             538.92      \n",
       "4                                             901.38      \n",
       "\n",
       "                       Unnamed: 12 Hospice reimbursements per enrollee (2014)  \\\n",
       "0  Price, age, sex & race-adjusted                   Age, sex & race-adjusted   \n",
       "1                           476.88                                     520.74   \n",
       "2                           682.03                                     385.12   \n",
       "3                           628.08                                      613.4   \n",
       "4                           967.68                                     425.74   \n",
       "\n",
       "                       Unnamed: 14  \\\n",
       "0  Price, age, sex & race-adjusted   \n",
       "1                           627.51   \n",
       "2                           451.39   \n",
       "3                            731.4   \n",
       "4                           482.73   \n",
       "\n",
       "  Durable medical equipment reimbursements per enrollee (2014)  \\\n",
       "0                           Age, sex & race-adjusted             \n",
       "1                                             251.58             \n",
       "2                                             247.73             \n",
       "3                                             255.88             \n",
       "4                                             181.96             \n",
       "\n",
       "                       Unnamed: 16  \n",
       "0  Price, age, sex & race-adjusted  \n",
       "1                           232.72  \n",
       "2                           226.87  \n",
       "3                           235.11  \n",
       "4                           192.73  "
      ]
     },
     "execution_count": 3,
     "metadata": {},
     "output_type": "execute_result"
    }
   ],
   "source": [
    "df_county = pd.read_excel('pa_reimb_county_2014.xlsx')\n",
    "df_county.head()"
   ]
  },
  {
   "cell_type": "markdown",
   "id": "228312d7-d1c0-4891-8340-2de1b3736f41",
   "metadata": {},
   "source": [
    "## Basic Data Cleaning\n",
    "- Renaming columns to improve readability and clarity.\n",
    "- Removing the first row to eliminate unnecessary or redundant data."
   ]
  },
  {
   "cell_type": "code",
   "execution_count": 4,
   "id": "b3f25e9e-7f77-41e7-9ba7-774c1c887fa3",
   "metadata": {},
   "outputs": [],
   "source": [
    "new_state_column_names = ['State_#', 'State_Name', 'Medicare_Enrollees_2014', 'Ttl_Mcr_Reim_P_E_14_ASRA', 'Ttl_Mcr_Reim_P_E_14_P_ASRA', \n",
    "                         'Hosp_SN_Reim_P_E_14_ASRA', 'Hosp_SN_Reim_P_E_14_P_ASRA', 'Phys_Reim_P_E_14_ASRA', 'Phys_Reim_P_E_14_P_ASRA', \n",
    "                         'Outp_Fac_Reim_P_E_14_ASRA', 'Outp_Fac_Reim_P_E_14_P_ASRA', 'HHA_Reim_P_E_14_ASRA', 'HHA_Reim_P_E_14_P_ASRA', \n",
    "                         'Hospice_Reim_P_E_14_ASRA', 'Hospice_Reim_P_E_14_P_ASRA', 'DME_Reim_P_E_14_ASRA', 'DME_Reim_P_E_14_P_ASRA']\n",
    "\n",
    "new_county_column_names = ['County_ID', 'County_Name', 'Medicare_Enrollees_2014', 'Ttl_Mcr_Reim_P_E_14_ASRA', 'Ttl_Mcr_Reim_P_E_14_P_ASRA',\n",
    "                         'Hosp_SN_Reim_P_E_14_ASRA', 'Hosp_SN_Reim_P_E_14_P_ASRA', 'Phys_Reim_P_E_14_ASRA', 'Phys_Reim_P_E_14_P_ASRA', \n",
    "                         'Outp_Fac_Reim_P_E_14_ASRA', 'Outp_Fac_Reim_P_E_14_P_ASRA','HHA_Reim_P_E_14_ASRA', 'HHA_Reim_P_E_14_P_ASRA', \n",
    "                         'Hospice_Reim_P_E_14_ASRA', 'Hospice_Reim_P_E_14_P_ASRA', 'DME_Reim_P_E_14_ASRA', 'DME_Reim_P_E_14_P_ASRA']"
   ]
  },
  {
   "cell_type": "markdown",
   "id": "bfb9154b-7c54-4726-9d7c-85b91fb26029",
   "metadata": {},
   "source": [
    "Abbreaviation:\n",
    "- ASRA: Age, Sex, Race Adjusted\n",
    "- P: Price\n",
    "- Ttl_Mcr_Reim_P_E_14: Total Medicare Reimbursements Per Enrollee Parts A and B 2014\n",
    "- Hosp_SN_Reim_P_E_14: Hospital Skilled Nursing Facility Reimbursements Per Enrollee 2014\n",
    "- Phys_Reim_P_E_14: Physician Reimbursements Per Enrollee 2014\n",
    "- Outp_Fac_Reim_P_E_14: Outpatient Facility Reimbursements Per Enrollee 2014\n",
    "- HHA_Reim_P_E_14: Home Health Agency Reimbursements Per Enrollee 2014\n",
    "- Hospice_Reim_P_E_14: Hospice Reimbursements Per Enrollee 2014\n",
    "- DME_Reim_P_E_14: Durable Medical Equipment Reimbursements Per Enrollee 2014"
   ]
  },
  {
   "cell_type": "code",
   "execution_count": 5,
   "id": "4cc28c05-72be-43b1-841b-35ce12b40924",
   "metadata": {},
   "outputs": [
    {
     "data": {
      "text/html": [
       "<div>\n",
       "<style scoped>\n",
       "    .dataframe tbody tr th:only-of-type {\n",
       "        vertical-align: middle;\n",
       "    }\n",
       "\n",
       "    .dataframe tbody tr th {\n",
       "        vertical-align: top;\n",
       "    }\n",
       "\n",
       "    .dataframe thead th {\n",
       "        text-align: right;\n",
       "    }\n",
       "</style>\n",
       "<table border=\"1\" class=\"dataframe\">\n",
       "  <thead>\n",
       "    <tr style=\"text-align: right;\">\n",
       "      <th></th>\n",
       "      <th>State_#</th>\n",
       "      <th>State_Name</th>\n",
       "      <th>Medicare_Enrollees_2014</th>\n",
       "      <th>Ttl_Mcr_Reim_P_E_14_ASRA</th>\n",
       "      <th>Ttl_Mcr_Reim_P_E_14_P_ASRA</th>\n",
       "      <th>Hosp_SN_Reim_P_E_14_ASRA</th>\n",
       "      <th>Hosp_SN_Reim_P_E_14_P_ASRA</th>\n",
       "      <th>Phys_Reim_P_E_14_ASRA</th>\n",
       "      <th>Phys_Reim_P_E_14_P_ASRA</th>\n",
       "      <th>Outp_Fac_Reim_P_E_14_ASRA</th>\n",
       "      <th>Outp_Fac_Reim_P_E_14_P_ASRA</th>\n",
       "      <th>HHA_Reim_P_E_14_ASRA</th>\n",
       "      <th>HHA_Reim_P_E_14_P_ASRA</th>\n",
       "      <th>Hospice_Reim_P_E_14_ASRA</th>\n",
       "      <th>Hospice_Reim_P_E_14_P_ASRA</th>\n",
       "      <th>DME_Reim_P_E_14_ASRA</th>\n",
       "      <th>DME_Reim_P_E_14_P_ASRA</th>\n",
       "    </tr>\n",
       "  </thead>\n",
       "  <tbody>\n",
       "    <tr>\n",
       "      <th>1</th>\n",
       "      <td>1.0</td>\n",
       "      <td>Alabama</td>\n",
       "      <td>494966.0</td>\n",
       "      <td>8680.93</td>\n",
       "      <td>9961.85</td>\n",
       "      <td>3447.21</td>\n",
       "      <td>4265.82</td>\n",
       "      <td>2578.5</td>\n",
       "      <td>2726.52</td>\n",
       "      <td>1351.84</td>\n",
       "      <td>1516.79</td>\n",
       "      <td>551.11</td>\n",
       "      <td>629.12</td>\n",
       "      <td>543.02</td>\n",
       "      <td>634.98</td>\n",
       "      <td>228.69</td>\n",
       "      <td>213.37</td>\n",
       "    </tr>\n",
       "    <tr>\n",
       "      <th>2</th>\n",
       "      <td>2.0</td>\n",
       "      <td>Alaska</td>\n",
       "      <td>56634.0</td>\n",
       "      <td>8702.62</td>\n",
       "      <td>6970.83</td>\n",
       "      <td>4101.69</td>\n",
       "      <td>3076.14</td>\n",
       "      <td>2334.08</td>\n",
       "      <td>1970.81</td>\n",
       "      <td>1660.47</td>\n",
       "      <td>1389.1</td>\n",
       "      <td>208.51</td>\n",
       "      <td>175.87</td>\n",
       "      <td>185.3</td>\n",
       "      <td>172.32</td>\n",
       "      <td>117.97</td>\n",
       "      <td>107.53</td>\n",
       "    </tr>\n",
       "    <tr>\n",
       "      <th>3</th>\n",
       "      <td>3.0</td>\n",
       "      <td>Arizona</td>\n",
       "      <td>507408.0</td>\n",
       "      <td>9068.12</td>\n",
       "      <td>8976.52</td>\n",
       "      <td>3652.01</td>\n",
       "      <td>3615.96</td>\n",
       "      <td>3211.26</td>\n",
       "      <td>3210.19</td>\n",
       "      <td>1211.14</td>\n",
       "      <td>1179.69</td>\n",
       "      <td>317.93</td>\n",
       "      <td>307.46</td>\n",
       "      <td>489.33</td>\n",
       "      <td>471.87</td>\n",
       "      <td>176.23</td>\n",
       "      <td>180.06</td>\n",
       "    </tr>\n",
       "    <tr>\n",
       "      <th>4</th>\n",
       "      <td>4.0</td>\n",
       "      <td>Arkansas</td>\n",
       "      <td>332791.0</td>\n",
       "      <td>8466.95</td>\n",
       "      <td>9544.49</td>\n",
       "      <td>3861.26</td>\n",
       "      <td>4616.55</td>\n",
       "      <td>2230.52</td>\n",
       "      <td>2342.91</td>\n",
       "      <td>1388.91</td>\n",
       "      <td>1538.26</td>\n",
       "      <td>409.23</td>\n",
       "      <td>458.16</td>\n",
       "      <td>342.15</td>\n",
       "      <td>365.25</td>\n",
       "      <td>234.63</td>\n",
       "      <td>226.04</td>\n",
       "    </tr>\n",
       "    <tr>\n",
       "      <th>5</th>\n",
       "      <td>5.0</td>\n",
       "      <td>California</td>\n",
       "      <td>2148329.0</td>\n",
       "      <td>10506.05</td>\n",
       "      <td>8908.44</td>\n",
       "      <td>4798.8</td>\n",
       "      <td>3870.55</td>\n",
       "      <td>3104.05</td>\n",
       "      <td>2895.97</td>\n",
       "      <td>1494.53</td>\n",
       "      <td>1199.77</td>\n",
       "      <td>573.17</td>\n",
       "      <td>465.35</td>\n",
       "      <td>367.03</td>\n",
       "      <td>305.7</td>\n",
       "      <td>164.09</td>\n",
       "      <td>165.43</td>\n",
       "    </tr>\n",
       "  </tbody>\n",
       "</table>\n",
       "</div>"
      ],
      "text/plain": [
       "   State_#  State_Name  Medicare_Enrollees_2014 Ttl_Mcr_Reim_P_E_14_ASRA  \\\n",
       "1      1.0     Alabama                 494966.0                  8680.93   \n",
       "2      2.0      Alaska                  56634.0                  8702.62   \n",
       "3      3.0     Arizona                 507408.0                  9068.12   \n",
       "4      4.0    Arkansas                 332791.0                  8466.95   \n",
       "5      5.0  California                2148329.0                 10506.05   \n",
       "\n",
       "  Ttl_Mcr_Reim_P_E_14_P_ASRA Hosp_SN_Reim_P_E_14_ASRA  \\\n",
       "1                    9961.85                  3447.21   \n",
       "2                    6970.83                  4101.69   \n",
       "3                    8976.52                  3652.01   \n",
       "4                    9544.49                  3861.26   \n",
       "5                    8908.44                   4798.8   \n",
       "\n",
       "  Hosp_SN_Reim_P_E_14_P_ASRA Phys_Reim_P_E_14_ASRA Phys_Reim_P_E_14_P_ASRA  \\\n",
       "1                    4265.82                2578.5                 2726.52   \n",
       "2                    3076.14               2334.08                 1970.81   \n",
       "3                    3615.96               3211.26                 3210.19   \n",
       "4                    4616.55               2230.52                 2342.91   \n",
       "5                    3870.55               3104.05                 2895.97   \n",
       "\n",
       "  Outp_Fac_Reim_P_E_14_ASRA Outp_Fac_Reim_P_E_14_P_ASRA HHA_Reim_P_E_14_ASRA  \\\n",
       "1                   1351.84                     1516.79               551.11   \n",
       "2                   1660.47                      1389.1               208.51   \n",
       "3                   1211.14                     1179.69               317.93   \n",
       "4                   1388.91                     1538.26               409.23   \n",
       "5                   1494.53                     1199.77               573.17   \n",
       "\n",
       "  HHA_Reim_P_E_14_P_ASRA Hospice_Reim_P_E_14_ASRA Hospice_Reim_P_E_14_P_ASRA  \\\n",
       "1                 629.12                   543.02                     634.98   \n",
       "2                 175.87                    185.3                     172.32   \n",
       "3                 307.46                   489.33                     471.87   \n",
       "4                 458.16                   342.15                     365.25   \n",
       "5                 465.35                   367.03                      305.7   \n",
       "\n",
       "  DME_Reim_P_E_14_ASRA DME_Reim_P_E_14_P_ASRA  \n",
       "1               228.69                 213.37  \n",
       "2               117.97                 107.53  \n",
       "3               176.23                 180.06  \n",
       "4               234.63                 226.04  \n",
       "5               164.09                 165.43  "
      ]
     },
     "execution_count": 5,
     "metadata": {},
     "output_type": "execute_result"
    }
   ],
   "source": [
    "df_state.columns = new_state_column_names\n",
    "df_state = df_state.drop(0)\n",
    "df_state.head()"
   ]
  },
  {
   "cell_type": "code",
   "execution_count": 6,
   "id": "3f84f4ca-db94-4228-9b80-524ea3b0545b",
   "metadata": {},
   "outputs": [
    {
     "data": {
      "text/html": [
       "<div>\n",
       "<style scoped>\n",
       "    .dataframe tbody tr th:only-of-type {\n",
       "        vertical-align: middle;\n",
       "    }\n",
       "\n",
       "    .dataframe tbody tr th {\n",
       "        vertical-align: top;\n",
       "    }\n",
       "\n",
       "    .dataframe thead th {\n",
       "        text-align: right;\n",
       "    }\n",
       "</style>\n",
       "<table border=\"1\" class=\"dataframe\">\n",
       "  <thead>\n",
       "    <tr style=\"text-align: right;\">\n",
       "      <th></th>\n",
       "      <th>County_ID</th>\n",
       "      <th>County_Name</th>\n",
       "      <th>Medicare_Enrollees_2014</th>\n",
       "      <th>Ttl_Mcr_Reim_P_E_14_ASRA</th>\n",
       "      <th>Ttl_Mcr_Reim_P_E_14_P_ASRA</th>\n",
       "      <th>Hosp_SN_Reim_P_E_14_ASRA</th>\n",
       "      <th>Hosp_SN_Reim_P_E_14_P_ASRA</th>\n",
       "      <th>Phys_Reim_P_E_14_ASRA</th>\n",
       "      <th>Phys_Reim_P_E_14_P_ASRA</th>\n",
       "      <th>Outp_Fac_Reim_P_E_14_ASRA</th>\n",
       "      <th>Outp_Fac_Reim_P_E_14_P_ASRA</th>\n",
       "      <th>HHA_Reim_P_E_14_ASRA</th>\n",
       "      <th>HHA_Reim_P_E_14_P_ASRA</th>\n",
       "      <th>Hospice_Reim_P_E_14_ASRA</th>\n",
       "      <th>Hospice_Reim_P_E_14_P_ASRA</th>\n",
       "      <th>DME_Reim_P_E_14_ASRA</th>\n",
       "      <th>DME_Reim_P_E_14_P_ASRA</th>\n",
       "    </tr>\n",
       "  </thead>\n",
       "  <tbody>\n",
       "    <tr>\n",
       "      <th>1</th>\n",
       "      <td>1001.0</td>\n",
       "      <td>AL-Autauga County</td>\n",
       "      <td>4649.0</td>\n",
       "      <td>8498.6</td>\n",
       "      <td>9858.62</td>\n",
       "      <td>3223.91</td>\n",
       "      <td>4053.2</td>\n",
       "      <td>2371.46</td>\n",
       "      <td>2539.18</td>\n",
       "      <td>1711.69</td>\n",
       "      <td>1948.61</td>\n",
       "      <td>419.55</td>\n",
       "      <td>476.88</td>\n",
       "      <td>520.74</td>\n",
       "      <td>627.51</td>\n",
       "      <td>251.58</td>\n",
       "      <td>232.72</td>\n",
       "    </tr>\n",
       "    <tr>\n",
       "      <th>2</th>\n",
       "      <td>1003.0</td>\n",
       "      <td>AL-Baldwin County</td>\n",
       "      <td>22607.0</td>\n",
       "      <td>8028.73</td>\n",
       "      <td>9412.78</td>\n",
       "      <td>2809.21</td>\n",
       "      <td>3695.9</td>\n",
       "      <td>2689.56</td>\n",
       "      <td>2846.65</td>\n",
       "      <td>1309.54</td>\n",
       "      <td>1519.31</td>\n",
       "      <td>575.77</td>\n",
       "      <td>682.03</td>\n",
       "      <td>385.12</td>\n",
       "      <td>451.39</td>\n",
       "      <td>247.73</td>\n",
       "      <td>226.87</td>\n",
       "    </tr>\n",
       "    <tr>\n",
       "      <th>3</th>\n",
       "      <td>1005.0</td>\n",
       "      <td>AL-Barbour County</td>\n",
       "      <td>3037.0</td>\n",
       "      <td>8707.97</td>\n",
       "      <td>10117.09</td>\n",
       "      <td>3367.89</td>\n",
       "      <td>4167.67</td>\n",
       "      <td>2441.77</td>\n",
       "      <td>2609.6</td>\n",
       "      <td>1522.81</td>\n",
       "      <td>1769.72</td>\n",
       "      <td>538.92</td>\n",
       "      <td>628.08</td>\n",
       "      <td>613.4</td>\n",
       "      <td>731.4</td>\n",
       "      <td>255.88</td>\n",
       "      <td>235.11</td>\n",
       "    </tr>\n",
       "    <tr>\n",
       "      <th>4</th>\n",
       "      <td>1007.0</td>\n",
       "      <td>AL-Bibb County</td>\n",
       "      <td>1839.0</td>\n",
       "      <td>9809.13</td>\n",
       "      <td>10817.25</td>\n",
       "      <td>4100.45</td>\n",
       "      <td>4740.37</td>\n",
       "      <td>2559.38</td>\n",
       "      <td>2668.62</td>\n",
       "      <td>1672.08</td>\n",
       "      <td>1808.62</td>\n",
       "      <td>901.38</td>\n",
       "      <td>967.68</td>\n",
       "      <td>425.74</td>\n",
       "      <td>482.73</td>\n",
       "      <td>181.96</td>\n",
       "      <td>192.73</td>\n",
       "    </tr>\n",
       "    <tr>\n",
       "      <th>5</th>\n",
       "      <td>1009.0</td>\n",
       "      <td>AL-Blount County</td>\n",
       "      <td>4408.0</td>\n",
       "      <td>8921.75</td>\n",
       "      <td>10035.61</td>\n",
       "      <td>3533.54</td>\n",
       "      <td>4229.56</td>\n",
       "      <td>2643.92</td>\n",
       "      <td>2764.35</td>\n",
       "      <td>1412.28</td>\n",
       "      <td>1563.9</td>\n",
       "      <td>554.54</td>\n",
       "      <td>611.15</td>\n",
       "      <td>587.87</td>\n",
       "      <td>681.73</td>\n",
       "      <td>210.47</td>\n",
       "      <td>229.42</td>\n",
       "    </tr>\n",
       "  </tbody>\n",
       "</table>\n",
       "</div>"
      ],
      "text/plain": [
       "   County_ID        County_Name  Medicare_Enrollees_2014  \\\n",
       "1     1001.0  AL-Autauga County                   4649.0   \n",
       "2     1003.0  AL-Baldwin County                  22607.0   \n",
       "3     1005.0  AL-Barbour County                   3037.0   \n",
       "4     1007.0     AL-Bibb County                   1839.0   \n",
       "5     1009.0   AL-Blount County                   4408.0   \n",
       "\n",
       "  Ttl_Mcr_Reim_P_E_14_ASRA Ttl_Mcr_Reim_P_E_14_P_ASRA  \\\n",
       "1                   8498.6                    9858.62   \n",
       "2                  8028.73                    9412.78   \n",
       "3                  8707.97                   10117.09   \n",
       "4                  9809.13                   10817.25   \n",
       "5                  8921.75                   10035.61   \n",
       "\n",
       "  Hosp_SN_Reim_P_E_14_ASRA Hosp_SN_Reim_P_E_14_P_ASRA Phys_Reim_P_E_14_ASRA  \\\n",
       "1                  3223.91                     4053.2               2371.46   \n",
       "2                  2809.21                     3695.9               2689.56   \n",
       "3                  3367.89                    4167.67               2441.77   \n",
       "4                  4100.45                    4740.37               2559.38   \n",
       "5                  3533.54                    4229.56               2643.92   \n",
       "\n",
       "  Phys_Reim_P_E_14_P_ASRA Outp_Fac_Reim_P_E_14_ASRA  \\\n",
       "1                 2539.18                   1711.69   \n",
       "2                 2846.65                   1309.54   \n",
       "3                  2609.6                   1522.81   \n",
       "4                 2668.62                   1672.08   \n",
       "5                 2764.35                   1412.28   \n",
       "\n",
       "  Outp_Fac_Reim_P_E_14_P_ASRA HHA_Reim_P_E_14_ASRA HHA_Reim_P_E_14_P_ASRA  \\\n",
       "1                     1948.61               419.55                 476.88   \n",
       "2                     1519.31               575.77                 682.03   \n",
       "3                     1769.72               538.92                 628.08   \n",
       "4                     1808.62               901.38                 967.68   \n",
       "5                      1563.9               554.54                 611.15   \n",
       "\n",
       "  Hospice_Reim_P_E_14_ASRA Hospice_Reim_P_E_14_P_ASRA DME_Reim_P_E_14_ASRA  \\\n",
       "1                   520.74                     627.51               251.58   \n",
       "2                   385.12                     451.39               247.73   \n",
       "3                    613.4                      731.4               255.88   \n",
       "4                   425.74                     482.73               181.96   \n",
       "5                   587.87                     681.73               210.47   \n",
       "\n",
       "  DME_Reim_P_E_14_P_ASRA  \n",
       "1                 232.72  \n",
       "2                 226.87  \n",
       "3                 235.11  \n",
       "4                 192.73  \n",
       "5                 229.42  "
      ]
     },
     "execution_count": 6,
     "metadata": {},
     "output_type": "execute_result"
    }
   ],
   "source": [
    "df_county.columns = new_county_column_names\n",
    "df_county = df_county.drop(0)\n",
    "df_county.head()"
   ]
  },
  {
   "cell_type": "markdown",
   "id": "3c17a452-4aa1-4d5d-bb38-c1bf63e4114a",
   "metadata": {},
   "source": [
    "## EDA (Exploratory Data Analysis)\n",
    "- for two datasets separately :\n",
    "    - df_state\n",
    "    - df_county\n",
    "\n",
    "Performing EDA and Data Wrangling concurrently, So as to iteratively explore the data, identify data quality issues, and address them through preprocessing steps, ensuring that our analysis is based on clean and reliable data."
   ]
  },
  {
   "cell_type": "code",
   "execution_count": 7,
   "id": "6ea8540d-de50-4e03-adb7-cb89cd7c3832",
   "metadata": {},
   "outputs": [],
   "source": [
    "numerical_cols = ['Ttl_Mcr_Reim_P_E_14_ASRA', 'Ttl_Mcr_Reim_P_E_14_P_ASRA', 'Hosp_SN_Reim_P_E_14_ASRA', \n",
    "                  'Hosp_SN_Reim_P_E_14_P_ASRA', 'Phys_Reim_P_E_14_ASRA', 'Phys_Reim_P_E_14_P_ASRA', \n",
    "                  'Outp_Fac_Reim_P_E_14_ASRA', 'Outp_Fac_Reim_P_E_14_P_ASRA', 'HHA_Reim_P_E_14_ASRA',\n",
    "                  'HHA_Reim_P_E_14_P_ASRA','Hospice_Reim_P_E_14_ASRA','Hospice_Reim_P_E_14_P_ASRA',\n",
    "                  'DME_Reim_P_E_14_ASRA','DME_Reim_P_E_14_P_ASRA']"
   ]
  },
  {
   "cell_type": "markdown",
   "id": "98c0d5e3-5a15-4b0a-bca5-b02bad23de43",
   "metadata": {},
   "source": [
    "### EDA for df_state"
   ]
  },
  {
   "cell_type": "code",
   "execution_count": 8,
   "id": "a3941fec-3079-4e30-bfef-9aa7edc39f28",
   "metadata": {},
   "outputs": [
    {
     "name": "stdout",
     "output_type": "stream",
     "text": [
      "52 Rows and 17 Columns\n"
     ]
    },
    {
     "data": {
      "text/plain": [
       "(52, 17)"
      ]
     },
     "execution_count": 8,
     "metadata": {},
     "output_type": "execute_result"
    }
   ],
   "source": [
    "rows = df_state.shape[0]\n",
    "column = df_state.shape[1]\n",
    "print(f\"{rows} Rows and {column} Columns\")\n",
    "df_state.shape"
   ]
  },
  {
   "cell_type": "code",
   "execution_count": 9,
   "id": "c35330e4-324e-4ee2-8745-82c681b064b5",
   "metadata": {},
   "outputs": [
    {
     "name": "stdout",
     "output_type": "stream",
     "text": [
      "<class 'pandas.core.frame.DataFrame'>\n",
      "RangeIndex: 52 entries, 1 to 52\n",
      "Data columns (total 17 columns):\n",
      " #   Column                       Non-Null Count  Dtype  \n",
      "---  ------                       --------------  -----  \n",
      " 0   State_#                      52 non-null     float64\n",
      " 1   State_Name                   52 non-null     object \n",
      " 2   Medicare_Enrollees_2014      52 non-null     float64\n",
      " 3   Ttl_Mcr_Reim_P_E_14_ASRA     52 non-null     object \n",
      " 4   Ttl_Mcr_Reim_P_E_14_P_ASRA   52 non-null     object \n",
      " 5   Hosp_SN_Reim_P_E_14_ASRA     52 non-null     object \n",
      " 6   Hosp_SN_Reim_P_E_14_P_ASRA   52 non-null     object \n",
      " 7   Phys_Reim_P_E_14_ASRA        52 non-null     object \n",
      " 8   Phys_Reim_P_E_14_P_ASRA      52 non-null     object \n",
      " 9   Outp_Fac_Reim_P_E_14_ASRA    52 non-null     object \n",
      " 10  Outp_Fac_Reim_P_E_14_P_ASRA  52 non-null     object \n",
      " 11  HHA_Reim_P_E_14_ASRA         52 non-null     object \n",
      " 12  HHA_Reim_P_E_14_P_ASRA       52 non-null     object \n",
      " 13  Hospice_Reim_P_E_14_ASRA     52 non-null     object \n",
      " 14  Hospice_Reim_P_E_14_P_ASRA   52 non-null     object \n",
      " 15  DME_Reim_P_E_14_ASRA         52 non-null     object \n",
      " 16  DME_Reim_P_E_14_P_ASRA       52 non-null     object \n",
      "dtypes: float64(2), object(15)\n",
      "memory usage: 7.0+ KB\n"
     ]
    }
   ],
   "source": [
    "df_state.info()"
   ]
  },
  {
   "cell_type": "code",
   "execution_count": 10,
   "id": "e9c8c1ce-8902-4b3a-b401-95ee136c3599",
   "metadata": {},
   "outputs": [
    {
     "data": {
      "text/plain": [
       "0"
      ]
     },
     "execution_count": 10,
     "metadata": {},
     "output_type": "execute_result"
    }
   ],
   "source": [
    "df_state.duplicated().sum()"
   ]
  },
  {
   "cell_type": "markdown",
   "id": "2461a0df-7c68-49b6-af8d-c857e700d319",
   "metadata": {},
   "source": [
    "**Insights :**\n",
    "- no nulls values \n",
    "- Most of the columns have inappropriate datatypes\n",
    "- no duplicates "
   ]
  },
  {
   "cell_type": "markdown",
   "id": "ed0f53aa-3ff0-4fbb-8343-6c9d2ef97139",
   "metadata": {},
   "source": [
    "#### Handling Datatype Error\n",
    "- convert object-type columns to float64 for numeric data"
   ]
  },
  {
   "cell_type": "code",
   "execution_count": 11,
   "id": "6b91265a-4bc0-42b4-9fb3-4bd2c60c6437",
   "metadata": {},
   "outputs": [],
   "source": [
    "df_state[numerical_cols] = df_state[numerical_cols].apply(pd.to_numeric, errors='coerce')"
   ]
  },
  {
   "cell_type": "code",
   "execution_count": 12,
   "id": "f2039ea7-8ea4-4595-aa46-c8f1a1d87097",
   "metadata": {},
   "outputs": [
    {
     "name": "stdout",
     "output_type": "stream",
     "text": [
      "<class 'pandas.core.frame.DataFrame'>\n",
      "RangeIndex: 52 entries, 1 to 52\n",
      "Data columns (total 17 columns):\n",
      " #   Column                       Non-Null Count  Dtype  \n",
      "---  ------                       --------------  -----  \n",
      " 0   State_#                      52 non-null     float64\n",
      " 1   State_Name                   52 non-null     object \n",
      " 2   Medicare_Enrollees_2014      52 non-null     float64\n",
      " 3   Ttl_Mcr_Reim_P_E_14_ASRA     52 non-null     float64\n",
      " 4   Ttl_Mcr_Reim_P_E_14_P_ASRA   52 non-null     float64\n",
      " 5   Hosp_SN_Reim_P_E_14_ASRA     52 non-null     float64\n",
      " 6   Hosp_SN_Reim_P_E_14_P_ASRA   52 non-null     float64\n",
      " 7   Phys_Reim_P_E_14_ASRA        52 non-null     float64\n",
      " 8   Phys_Reim_P_E_14_P_ASRA      52 non-null     float64\n",
      " 9   Outp_Fac_Reim_P_E_14_ASRA    52 non-null     float64\n",
      " 10  Outp_Fac_Reim_P_E_14_P_ASRA  52 non-null     float64\n",
      " 11  HHA_Reim_P_E_14_ASRA         52 non-null     float64\n",
      " 12  HHA_Reim_P_E_14_P_ASRA       52 non-null     float64\n",
      " 13  Hospice_Reim_P_E_14_ASRA     52 non-null     float64\n",
      " 14  Hospice_Reim_P_E_14_P_ASRA   52 non-null     float64\n",
      " 15  DME_Reim_P_E_14_ASRA         52 non-null     float64\n",
      " 16  DME_Reim_P_E_14_P_ASRA       52 non-null     float64\n",
      "dtypes: float64(16), object(1)\n",
      "memory usage: 7.0+ KB\n"
     ]
    }
   ],
   "source": [
    "df_state.info() #verifying"
   ]
  },
  {
   "cell_type": "markdown",
   "id": "040c4085-90f4-4129-be92-81b2aaaa2d51",
   "metadata": {},
   "source": [
    "#### Descriptive Statsitics"
   ]
  },
  {
   "cell_type": "code",
   "execution_count": 13,
   "id": "588e8e00-e248-4496-a33c-1a8a02489d21",
   "metadata": {},
   "outputs": [
    {
     "data": {
      "text/html": [
       "<div>\n",
       "<style scoped>\n",
       "    .dataframe tbody tr th:only-of-type {\n",
       "        vertical-align: middle;\n",
       "    }\n",
       "\n",
       "    .dataframe tbody tr th {\n",
       "        vertical-align: top;\n",
       "    }\n",
       "\n",
       "    .dataframe thead th {\n",
       "        text-align: right;\n",
       "    }\n",
       "</style>\n",
       "<table border=\"1\" class=\"dataframe\">\n",
       "  <thead>\n",
       "    <tr style=\"text-align: right;\">\n",
       "      <th></th>\n",
       "      <th>State_#</th>\n",
       "      <th>Medicare_Enrollees_2014</th>\n",
       "      <th>Ttl_Mcr_Reim_P_E_14_ASRA</th>\n",
       "      <th>Ttl_Mcr_Reim_P_E_14_P_ASRA</th>\n",
       "      <th>Hosp_SN_Reim_P_E_14_ASRA</th>\n",
       "      <th>Hosp_SN_Reim_P_E_14_P_ASRA</th>\n",
       "      <th>Phys_Reim_P_E_14_ASRA</th>\n",
       "      <th>Phys_Reim_P_E_14_P_ASRA</th>\n",
       "      <th>Outp_Fac_Reim_P_E_14_ASRA</th>\n",
       "      <th>Outp_Fac_Reim_P_E_14_P_ASRA</th>\n",
       "      <th>HHA_Reim_P_E_14_ASRA</th>\n",
       "      <th>HHA_Reim_P_E_14_P_ASRA</th>\n",
       "      <th>Hospice_Reim_P_E_14_ASRA</th>\n",
       "      <th>Hospice_Reim_P_E_14_P_ASRA</th>\n",
       "      <th>DME_Reim_P_E_14_ASRA</th>\n",
       "      <th>DME_Reim_P_E_14_P_ASRA</th>\n",
       "    </tr>\n",
       "  </thead>\n",
       "  <tbody>\n",
       "    <tr>\n",
       "      <th>count</th>\n",
       "      <td>52.000000</td>\n",
       "      <td>5.200000e+01</td>\n",
       "      <td>52.000000</td>\n",
       "      <td>52.000000</td>\n",
       "      <td>52.000000</td>\n",
       "      <td>52.000000</td>\n",
       "      <td>52.000000</td>\n",
       "      <td>52.000000</td>\n",
       "      <td>52.000000</td>\n",
       "      <td>52.000000</td>\n",
       "      <td>52.000000</td>\n",
       "      <td>52.000000</td>\n",
       "      <td>52.000000</td>\n",
       "      <td>52.000000</td>\n",
       "      <td>52.000000</td>\n",
       "      <td>52.000000</td>\n",
       "    </tr>\n",
       "    <tr>\n",
       "      <th>mean</th>\n",
       "      <td>27.730769</td>\n",
       "      <td>1.003767e+06</td>\n",
       "      <td>9041.840962</td>\n",
       "      <td>9081.429231</td>\n",
       "      <td>4016.195962</td>\n",
       "      <td>4026.762692</td>\n",
       "      <td>2379.824038</td>\n",
       "      <td>2402.049423</td>\n",
       "      <td>1666.437500</td>\n",
       "      <td>1665.982885</td>\n",
       "      <td>451.268269</td>\n",
       "      <td>453.544808</td>\n",
       "      <td>342.825577</td>\n",
       "      <td>350.841538</td>\n",
       "      <td>188.853269</td>\n",
       "      <td>186.532308</td>\n",
       "    </tr>\n",
       "    <tr>\n",
       "      <th>std</th>\n",
       "      <td>18.229598</td>\n",
       "      <td>3.579463e+06</td>\n",
       "      <td>966.118427</td>\n",
       "      <td>1029.817742</td>\n",
       "      <td>531.078024</td>\n",
       "      <td>545.499599</td>\n",
       "      <td>531.713949</td>\n",
       "      <td>480.591970</td>\n",
       "      <td>286.345313</td>\n",
       "      <td>294.338873</td>\n",
       "      <td>207.025845</td>\n",
       "      <td>220.585547</td>\n",
       "      <td>112.968403</td>\n",
       "      <td>128.649418</td>\n",
       "      <td>35.086175</td>\n",
       "      <td>34.089326</td>\n",
       "    </tr>\n",
       "    <tr>\n",
       "      <th>min</th>\n",
       "      <td>1.000000</td>\n",
       "      <td>4.505100e+04</td>\n",
       "      <td>7366.280000</td>\n",
       "      <td>6970.830000</td>\n",
       "      <td>3096.410000</td>\n",
       "      <td>3036.500000</td>\n",
       "      <td>1442.950000</td>\n",
       "      <td>1450.430000</td>\n",
       "      <td>1125.220000</td>\n",
       "      <td>1019.850000</td>\n",
       "      <td>95.840000</td>\n",
       "      <td>95.420000</td>\n",
       "      <td>119.590000</td>\n",
       "      <td>134.550000</td>\n",
       "      <td>92.570000</td>\n",
       "      <td>89.930000</td>\n",
       "    </tr>\n",
       "    <tr>\n",
       "      <th>25%</th>\n",
       "      <td>13.750000</td>\n",
       "      <td>1.666012e+05</td>\n",
       "      <td>8283.730000</td>\n",
       "      <td>8325.985000</td>\n",
       "      <td>3551.077500</td>\n",
       "      <td>3623.837500</td>\n",
       "      <td>2033.115000</td>\n",
       "      <td>2010.387500</td>\n",
       "      <td>1438.052500</td>\n",
       "      <td>1467.955000</td>\n",
       "      <td>316.847500</td>\n",
       "      <td>306.745000</td>\n",
       "      <td>269.420000</td>\n",
       "      <td>269.222500</td>\n",
       "      <td>167.775000</td>\n",
       "      <td>165.237500</td>\n",
       "    </tr>\n",
       "    <tr>\n",
       "      <th>50%</th>\n",
       "      <td>26.500000</td>\n",
       "      <td>3.719365e+05</td>\n",
       "      <td>8855.395000</td>\n",
       "      <td>9158.310000</td>\n",
       "      <td>3932.410000</td>\n",
       "      <td>3952.685000</td>\n",
       "      <td>2327.775000</td>\n",
       "      <td>2381.705000</td>\n",
       "      <td>1627.545000</td>\n",
       "      <td>1578.545000</td>\n",
       "      <td>421.495000</td>\n",
       "      <td>437.345000</td>\n",
       "      <td>332.630000</td>\n",
       "      <td>341.835000</td>\n",
       "      <td>192.260000</td>\n",
       "      <td>189.230000</td>\n",
       "    </tr>\n",
       "    <tr>\n",
       "      <th>75%</th>\n",
       "      <td>39.500000</td>\n",
       "      <td>6.690788e+05</td>\n",
       "      <td>9823.512500</td>\n",
       "      <td>9872.295000</td>\n",
       "      <td>4428.210000</td>\n",
       "      <td>4489.695000</td>\n",
       "      <td>2641.772500</td>\n",
       "      <td>2693.287500</td>\n",
       "      <td>1840.255000</td>\n",
       "      <td>1875.192500</td>\n",
       "      <td>574.002500</td>\n",
       "      <td>546.822500</td>\n",
       "      <td>428.987500</td>\n",
       "      <td>410.690000</td>\n",
       "      <td>209.727500</td>\n",
       "      <td>204.997500</td>\n",
       "    </tr>\n",
       "    <tr>\n",
       "      <th>max</th>\n",
       "      <td>99.000000</td>\n",
       "      <td>2.609794e+07</td>\n",
       "      <td>11059.680000</td>\n",
       "      <td>11221.220000</td>\n",
       "      <td>5269.950000</td>\n",
       "      <td>5111.560000</td>\n",
       "      <td>3792.780000</td>\n",
       "      <td>3699.540000</td>\n",
       "      <td>2447.960000</td>\n",
       "      <td>2434.300000</td>\n",
       "      <td>1011.300000</td>\n",
       "      <td>1038.820000</td>\n",
       "      <td>576.850000</td>\n",
       "      <td>634.980000</td>\n",
       "      <td>263.950000</td>\n",
       "      <td>260.300000</td>\n",
       "    </tr>\n",
       "  </tbody>\n",
       "</table>\n",
       "</div>"
      ],
      "text/plain": [
       "         State_#  Medicare_Enrollees_2014  Ttl_Mcr_Reim_P_E_14_ASRA  \\\n",
       "count  52.000000             5.200000e+01                 52.000000   \n",
       "mean   27.730769             1.003767e+06               9041.840962   \n",
       "std    18.229598             3.579463e+06                966.118427   \n",
       "min     1.000000             4.505100e+04               7366.280000   \n",
       "25%    13.750000             1.666012e+05               8283.730000   \n",
       "50%    26.500000             3.719365e+05               8855.395000   \n",
       "75%    39.500000             6.690788e+05               9823.512500   \n",
       "max    99.000000             2.609794e+07              11059.680000   \n",
       "\n",
       "       Ttl_Mcr_Reim_P_E_14_P_ASRA  Hosp_SN_Reim_P_E_14_ASRA  \\\n",
       "count                   52.000000                 52.000000   \n",
       "mean                  9081.429231               4016.195962   \n",
       "std                   1029.817742                531.078024   \n",
       "min                   6970.830000               3096.410000   \n",
       "25%                   8325.985000               3551.077500   \n",
       "50%                   9158.310000               3932.410000   \n",
       "75%                   9872.295000               4428.210000   \n",
       "max                  11221.220000               5269.950000   \n",
       "\n",
       "       Hosp_SN_Reim_P_E_14_P_ASRA  Phys_Reim_P_E_14_ASRA  \\\n",
       "count                   52.000000              52.000000   \n",
       "mean                  4026.762692            2379.824038   \n",
       "std                    545.499599             531.713949   \n",
       "min                   3036.500000            1442.950000   \n",
       "25%                   3623.837500            2033.115000   \n",
       "50%                   3952.685000            2327.775000   \n",
       "75%                   4489.695000            2641.772500   \n",
       "max                   5111.560000            3792.780000   \n",
       "\n",
       "       Phys_Reim_P_E_14_P_ASRA  Outp_Fac_Reim_P_E_14_ASRA  \\\n",
       "count                52.000000                  52.000000   \n",
       "mean               2402.049423                1666.437500   \n",
       "std                 480.591970                 286.345313   \n",
       "min                1450.430000                1125.220000   \n",
       "25%                2010.387500                1438.052500   \n",
       "50%                2381.705000                1627.545000   \n",
       "75%                2693.287500                1840.255000   \n",
       "max                3699.540000                2447.960000   \n",
       "\n",
       "       Outp_Fac_Reim_P_E_14_P_ASRA  HHA_Reim_P_E_14_ASRA  \\\n",
       "count                    52.000000             52.000000   \n",
       "mean                   1665.982885            451.268269   \n",
       "std                     294.338873            207.025845   \n",
       "min                    1019.850000             95.840000   \n",
       "25%                    1467.955000            316.847500   \n",
       "50%                    1578.545000            421.495000   \n",
       "75%                    1875.192500            574.002500   \n",
       "max                    2434.300000           1011.300000   \n",
       "\n",
       "       HHA_Reim_P_E_14_P_ASRA  Hospice_Reim_P_E_14_ASRA  \\\n",
       "count               52.000000                 52.000000   \n",
       "mean               453.544808                342.825577   \n",
       "std                220.585547                112.968403   \n",
       "min                 95.420000                119.590000   \n",
       "25%                306.745000                269.420000   \n",
       "50%                437.345000                332.630000   \n",
       "75%                546.822500                428.987500   \n",
       "max               1038.820000                576.850000   \n",
       "\n",
       "       Hospice_Reim_P_E_14_P_ASRA  DME_Reim_P_E_14_ASRA  \\\n",
       "count                   52.000000             52.000000   \n",
       "mean                   350.841538            188.853269   \n",
       "std                    128.649418             35.086175   \n",
       "min                    134.550000             92.570000   \n",
       "25%                    269.222500            167.775000   \n",
       "50%                    341.835000            192.260000   \n",
       "75%                    410.690000            209.727500   \n",
       "max                    634.980000            263.950000   \n",
       "\n",
       "       DME_Reim_P_E_14_P_ASRA  \n",
       "count               52.000000  \n",
       "mean               186.532308  \n",
       "std                 34.089326  \n",
       "min                 89.930000  \n",
       "25%                165.237500  \n",
       "50%                189.230000  \n",
       "75%                204.997500  \n",
       "max                260.300000  "
      ]
     },
     "execution_count": 13,
     "metadata": {},
     "output_type": "execute_result"
    }
   ],
   "source": [
    "df_state.describe()"
   ]
  },
  {
   "cell_type": "code",
   "execution_count": 14,
   "id": "6bd84abe-4aca-422c-ad97-f224b5356892",
   "metadata": {},
   "outputs": [
    {
     "data": {
      "text/plain": [
       "52"
      ]
     },
     "execution_count": 14,
     "metadata": {},
     "output_type": "execute_result"
    }
   ],
   "source": [
    "df_state['State_Name'].nunique()"
   ]
  },
  {
   "cell_type": "markdown",
   "id": "b875f5dc-c3ea-4571-9dc4-6b2a90aeab49",
   "metadata": {},
   "source": [
    "**Interpretation**\n",
    "- The average values (**mean**) for most reimbursements are relatively high, ranging from $1665.98 to  4551.27. This implies that *healthcare costs can be substantial*, even after adjusting for age, sex, and race (ASRA).\n",
    "- High **standard deviations** across all reimbursements highlight significant variability in costs among states. This suggests that the *average reimbursement amounts don't necessarily represent the typical experience for many enrollees within a state*.\n",
    "- The **minimum and maximum values** for each reimbursement type show a considerable range, suggesting that *some states have substantially lower overall healthcare costs compared to others*\n",
    "\n",
    "Overall, values across different reimbursements emphasizes the *heterogeneity of healthcare costs across states*"
   ]
  },
  {
   "cell_type": "markdown",
   "id": "b476b590-ea20-4672-9b33-36a6c6d5ec44",
   "metadata": {},
   "source": [
    "#### Data Visualization"
   ]
  },
  {
   "cell_type": "code",
   "execution_count": 15,
   "id": "06b0c2db-e509-4b68-86b5-80ba2be8ab77",
   "metadata": {},
   "outputs": [
    {
     "data": {
      "image/png": "[encoded data removed]",
      "text/plain": [
       "<Figure size 2500x800 with 14 Axes>"
      ]
     },
     "metadata": {},
     "output_type": "display_data"
    }
   ],
   "source": [
    "plt.figure(figsize=(25, 8))\n",
    "\n",
    "for i, column in enumerate(numerical_cols):\n",
    "    plt.subplot(2, len(numerical_cols)//2, i+1)\n",
    "    sns.histplot(df_state[column], kde=True)\n",
    "    plt.title(column)\n",
    "\n",
    "plt.tight_layout()\n",
    "plt.show()"
   ]
  },
  {
   "cell_type": "markdown",
   "id": "bdac84f8-53b8-4f51-a867-f6bd2ebfe3aa",
   "metadata": {},
   "source": [
    "**Interpretation**\n",
    "- Most of the healthcare reimbursements in the dataset are **skewed to the right**, i.e. there are a significantly higher number of enrollees with lower reimbursements compared to those with higher reimbursements.\n",
    "- Particularly Hospice Reimbursement, show a **few outliers with very high reimbursement** amounts compared to the majority of enrollees. This suggests that a **small number of individuals may have significantly higher healthcare needs**.\n",
    "\n",
    "Overall, majority have lower reimbursements, there are outliers with high costs, and the number of enrollees doesn't necessarily dictate the total reimbursement amount.\n"
   ]
  },
  {
   "cell_type": "markdown",
   "id": "06967894-75a2-4ae5-9e24-ba323649fdda",
   "metadata": {},
   "source": [
    "#### Correlation"
   ]
  },
  {
   "cell_type": "markdown",
   "id": "3c8f3640-dea1-41eb-b2e2-909fc651f18e",
   "metadata": {},
   "source": [
    "- correlation matrix of target variable (Ttl_Mcr_Reim_P_E_14_P_ASRA) and all other variable\n",
    "  To check which factor is affecting our target variable"
   ]
  },
  {
   "cell_type": "code",
   "execution_count": 16,
   "id": "1186409b-e2d4-4719-a088-e45204800a02",
   "metadata": {},
   "outputs": [
    {
     "data": {
      "image/png": "[encoded data removed]",
      "text/plain": [
       "<Figure size 1500x800 with 1 Axes>"
      ]
     },
     "metadata": {},
     "output_type": "display_data"
    }
   ],
   "source": [
    "correlation_with_target = df_state[['Medicare_Enrollees_2014']+ numerical_cols].corrwith(df_state['Ttl_Mcr_Reim_P_E_14_P_ASRA'])\n",
    "\n",
    "plt.figure(figsize=(15, 8))\n",
    "sns.barplot(x=correlation_with_target.index, y=correlation_with_target.values)\n",
    "plt.title('Correlation with Target Variable (Ttl_Mcr_Reim_P_E_14_P_ASRA)')\n",
    "plt.xlabel('Features')\n",
    "plt.ylabel('Correlation')\n",
    "plt.xticks(rotation=90) \n",
    "plt.show()"
   ]
  },
  {
   "cell_type": "markdown",
   "id": "3a3dcb74-a13f-4709-b515-ff007568261a",
   "metadata": {},
   "source": [
    "**Strong Positive Correlations**:\n",
    " - Hosp_SN_Reim_P_E_14_P_ASRA (Hospital Skilled Nursing)\n",
    " - Phys_Reim_P_E_14_P_ASRA (Physician Reimbursement)\n",
    " - Outp_Fac_Reim_P_E_14_P_ASRA (Outpatient Facility Reimbursement)\n",
    "\n",
    "**Moderate Positive Correlation**:\n",
    " - HHA_Reim_P_E_14_P_ASRA (Home Health Agency Reimbursement)\n",
    "\n",
    "**Weak Positive Correlation**:\n",
    " - Medicare_Enrollees_2014 \n",
    "\n",
    "**Interpretation:**\n",
    " - States with **higher reimbursements** for *hospital skilled nursing facilities, physicians, and outpatient facilities* tend to have **higher total Medicare reimbursements per enrollee** as well. \n",
    " - There is a **weaker positive correlation** between *Home Health Agency Reimbursement and total Medicare reimbursement*. This means there might be a **slight association between higher home health agency costs and higher overall reimbursements**, but the link is not as strong as with the other categories.\n",
    "- **Weak positive correlation** between the number of *Medicare enrollees and total reimbursements*, it's crucial to remember that other factors like healthcare costs and utilization play a much more significant role in driving total cost variations across states."
   ]
  },
  {
   "cell_type": "markdown",
   "id": "dc2d94b9-1300-4d67-81e0-14fcf2559c7d",
   "metadata": {},
   "source": [
    "### EDA for df_county"
   ]
  },
  {
   "cell_type": "code",
   "execution_count": 17,
   "id": "fb274c26-24b9-44eb-ad91-96d75029cd8f",
   "metadata": {},
   "outputs": [
    {
     "name": "stdout",
     "output_type": "stream",
     "text": [
      "3144 Rows and 17 Columns\n"
     ]
    },
    {
     "data": {
      "text/plain": [
       "(3144, 17)"
      ]
     },
     "execution_count": 17,
     "metadata": {},
     "output_type": "execute_result"
    }
   ],
   "source": [
    "rows = df_county.shape[0]\n",
    "column = df_county.shape[1]\n",
    "print(f\"{rows} Rows and {column} Columns\")\n",
    "df_county.shape"
   ]
  },
  {
   "cell_type": "code",
   "execution_count": 18,
   "id": "a0b94c5d-7d0d-4bf2-80e6-cdc9879c3267",
   "metadata": {},
   "outputs": [
    {
     "name": "stdout",
     "output_type": "stream",
     "text": [
      "<class 'pandas.core.frame.DataFrame'>\n",
      "RangeIndex: 3144 entries, 1 to 3144\n",
      "Data columns (total 17 columns):\n",
      " #   Column                       Non-Null Count  Dtype  \n",
      "---  ------                       --------------  -----  \n",
      " 0   County_ID                    3144 non-null   float64\n",
      " 1   County_Name                  3144 non-null   object \n",
      " 2   Medicare_Enrollees_2014      3144 non-null   float64\n",
      " 3   Ttl_Mcr_Reim_P_E_14_ASRA     3142 non-null   object \n",
      " 4   Ttl_Mcr_Reim_P_E_14_P_ASRA   3142 non-null   object \n",
      " 5   Hosp_SN_Reim_P_E_14_ASRA     3130 non-null   object \n",
      " 6   Hosp_SN_Reim_P_E_14_P_ASRA   3130 non-null   object \n",
      " 7   Phys_Reim_P_E_14_ASRA        3142 non-null   object \n",
      " 8   Phys_Reim_P_E_14_P_ASRA      3142 non-null   object \n",
      " 9   Outp_Fac_Reim_P_E_14_ASRA    3142 non-null   object \n",
      " 10  Outp_Fac_Reim_P_E_14_P_ASRA  3142 non-null   object \n",
      " 11  HHA_Reim_P_E_14_ASRA         2996 non-null   object \n",
      " 12  HHA_Reim_P_E_14_P_ASRA       2996 non-null   object \n",
      " 13  Hospice_Reim_P_E_14_ASRA     2879 non-null   object \n",
      " 14  Hospice_Reim_P_E_14_P_ASRA   2879 non-null   object \n",
      " 15  DME_Reim_P_E_14_ASRA         3139 non-null   object \n",
      " 16  DME_Reim_P_E_14_P_ASRA       3139 non-null   object \n",
      "dtypes: float64(2), object(15)\n",
      "memory usage: 417.7+ KB\n"
     ]
    }
   ],
   "source": [
    "df_county.info()"
   ]
  },
  {
   "cell_type": "code",
   "execution_count": 19,
   "id": "a65b9d3e-547b-4f1f-a580-72f8cc0acafa",
   "metadata": {},
   "outputs": [
    {
     "data": {
      "text/plain": [
       "0"
      ]
     },
     "execution_count": 19,
     "metadata": {},
     "output_type": "execute_result"
    }
   ],
   "source": [
    "df_county['County_Name'].duplicated().sum()"
   ]
  },
  {
   "cell_type": "markdown",
   "id": "911bfb4a-4132-498f-a3d3-135daaee3572",
   "metadata": {},
   "source": [
    "**Insights :**\n",
    "- few columns have *null values* \n",
    "- And most of the columns have *inappropriate datatypes*\n",
    "- No Duplicates"
   ]
  },
  {
   "cell_type": "markdown",
   "id": "9cd2f9bc-dbd4-4d0f-b9e5-d8225a58d56e",
   "metadata": {},
   "source": [
    "#### Handling Datatype Error"
   ]
  },
  {
   "cell_type": "markdown",
   "id": "9f3a5ec6-9771-46ae-a6ba-c88706bbe67d",
   "metadata": {},
   "source": [
    "- convert object-type columns to float64 for numeric data"
   ]
  },
  {
   "cell_type": "code",
   "execution_count": 20,
   "id": "106ab70c-15f1-45f6-bfe0-b32f12c24acd",
   "metadata": {},
   "outputs": [],
   "source": [
    "df_county[numerical_cols] = df_county[numerical_cols].apply(pd.to_numeric, errors='coerce')"
   ]
  },
  {
   "cell_type": "code",
   "execution_count": 21,
   "id": "339bf62d-0dcf-4ddd-a38b-9efc299b29dd",
   "metadata": {},
   "outputs": [
    {
     "data": {
      "text/plain": [
       "County_ID                      float64\n",
       "County_Name                     object\n",
       "Medicare_Enrollees_2014        float64\n",
       "Ttl_Mcr_Reim_P_E_14_ASRA       float64\n",
       "Ttl_Mcr_Reim_P_E_14_P_ASRA     float64\n",
       "Hosp_SN_Reim_P_E_14_ASRA       float64\n",
       "Hosp_SN_Reim_P_E_14_P_ASRA     float64\n",
       "Phys_Reim_P_E_14_ASRA          float64\n",
       "Phys_Reim_P_E_14_P_ASRA        float64\n",
       "Outp_Fac_Reim_P_E_14_ASRA      float64\n",
       "Outp_Fac_Reim_P_E_14_P_ASRA    float64\n",
       "HHA_Reim_P_E_14_ASRA           float64\n",
       "HHA_Reim_P_E_14_P_ASRA         float64\n",
       "Hospice_Reim_P_E_14_ASRA       float64\n",
       "Hospice_Reim_P_E_14_P_ASRA     float64\n",
       "DME_Reim_P_E_14_ASRA           float64\n",
       "DME_Reim_P_E_14_P_ASRA         float64\n",
       "dtype: object"
      ]
     },
     "execution_count": 21,
     "metadata": {},
     "output_type": "execute_result"
    }
   ],
   "source": [
    "df_county.dtypes #verifying"
   ]
  },
  {
   "cell_type": "markdown",
   "id": "f0560bd5-8b54-4b85-85a6-6bd60f75a9d4",
   "metadata": {},
   "source": [
    "#### Handling Null Values"
   ]
  },
  {
   "cell_type": "code",
   "execution_count": 22,
   "id": "f324bcea-2730-467a-8be8-b46a7d6abadb",
   "metadata": {},
   "outputs": [
    {
     "data": {
      "text/plain": [
       "County_ID                        0\n",
       "County_Name                      0\n",
       "Medicare_Enrollees_2014          0\n",
       "Ttl_Mcr_Reim_P_E_14_ASRA         2\n",
       "Ttl_Mcr_Reim_P_E_14_P_ASRA       2\n",
       "Hosp_SN_Reim_P_E_14_ASRA        14\n",
       "Hosp_SN_Reim_P_E_14_P_ASRA      14\n",
       "Phys_Reim_P_E_14_ASRA            2\n",
       "Phys_Reim_P_E_14_P_ASRA          2\n",
       "Outp_Fac_Reim_P_E_14_ASRA        2\n",
       "Outp_Fac_Reim_P_E_14_P_ASRA      2\n",
       "HHA_Reim_P_E_14_ASRA           148\n",
       "HHA_Reim_P_E_14_P_ASRA         148\n",
       "Hospice_Reim_P_E_14_ASRA       265\n",
       "Hospice_Reim_P_E_14_P_ASRA     265\n",
       "DME_Reim_P_E_14_ASRA             5\n",
       "DME_Reim_P_E_14_P_ASRA           5\n",
       "dtype: int64"
      ]
     },
     "execution_count": 22,
     "metadata": {},
     "output_type": "execute_result"
    }
   ],
   "source": [
    "df_county.isnull().sum()"
   ]
  },
  {
   "cell_type": "markdown",
   "id": "ec3a6593-832c-4485-b114-703ac4244b69",
   "metadata": {},
   "source": [
    "##### Feature Engineering"
   ]
  },
  {
   "cell_type": "markdown",
   "id": "2e54ae8b-b46e-49a5-b7e8-083b57c82517",
   "metadata": {},
   "source": [
    "Creating Features to match the dataframe df_county with df_state. <br>\n",
    "So that i can impute nulls in df_county with the values of df_state\n"
   ]
  },
  {
   "cell_type": "code",
   "execution_count": 23,
   "id": "20b889e3-ca1c-47da-acd2-d899315f4f43",
   "metadata": {},
   "outputs": [],
   "source": [
    "df_county['state_abb'] = df_county['County_Name'].str[:2]\n",
    "df_county.insert(0, 'state_abb', df_county.pop('state_abb'))\n",
    "\n",
    "df_county['County_Name'] = df_county['County_Name'].str[3:]"
   ]
  },
  {
   "cell_type": "code",
   "execution_count": 24,
   "id": "0a787ad6-9165-4761-a796-13c79df8fb34",
   "metadata": {},
   "outputs": [
    {
     "name": "stdout",
     "output_type": "stream",
     "text": [
      "52 state_abb in df_county & 52 states in df_state\n"
     ]
    }
   ],
   "source": [
    "state_abb_count = df_county['state_abb'].nunique()\n",
    "state_name_count = df_county['state_abb'].nunique()\n",
    "\n",
    "print(f\"{state_abb_count} state_abb in df_county & {state_name_count} states in df_state\")"
   ]
  },
  {
   "cell_type": "code",
   "execution_count": 25,
   "id": "9a7b855e-e3fb-4c4f-991a-738f03aab0f2",
   "metadata": {},
   "outputs": [
    {
     "name": "stdout",
     "output_type": "stream",
     "text": [
      "['AL' 'AK' nan 'AZ' 'AR' 'CA' 'CO' 'CT' 'DE' 'DC' 'FL' 'GA' 'HI' 'ID' 'IL'\n",
      " 'IN' 'IA' 'KS' 'KY' 'LA' 'ME' 'MD' 'MA' 'MI' 'MN' 'MS' 'MO' 'MT' 'NE'\n",
      " 'NV' 'NH' 'NJ' 'NM' 'NY' 'NC' 'ND' 'OH' 'OK' 'OR' 'PA' 'RI' 'SC' 'SD'\n",
      " 'TN' 'TX' 'UT' 'VT' 'VA' 'WA' 'WV' 'WI' 'WY' 'US']\n"
     ]
    },
    {
     "data": {
      "text/plain": [
       "array(['Alabama', 'Alaska', 'Arizona', 'Arkansas', 'California',\n",
       "       'Colorado', 'Connecticut', 'Delaware', 'District of Columbia',\n",
       "       'Florida', 'Georgia', 'Hawaii', 'Idaho', 'Illinois', 'Indiana',\n",
       "       'Iowa', 'Kansas', 'Kentucky', 'Louisiana', 'Maine', 'Maryland',\n",
       "       'Massachusetts', 'Michigan', 'Minnesota', 'Mississippi',\n",
       "       'Missouri', 'Montana', 'Nebraska', 'Nevada', 'New Hampshire',\n",
       "       'New Jersey', 'New Mexico', 'New York', 'North Carolina',\n",
       "       'North Dakota', 'Ohio', 'Oklahoma', 'Oregon', 'Pennsylvania',\n",
       "       'Rhode Island', 'South Carolina', 'South Dakota', 'Tennessee',\n",
       "       'Texas', 'Utah', 'Vermont', 'Virginia', 'Washington',\n",
       "       'West Virginia', 'Wisconsin', 'Wyoming', 'United States'],\n",
       "      dtype=object)"
      ]
     },
     "execution_count": 25,
     "metadata": {},
     "output_type": "execute_result"
    }
   ],
   "source": [
    "#Mapping the state_abb with State_Name\n",
    "print(df_county['state_abb'].unique())\n",
    "df_state['State_Name'].unique()"
   ]
  },
  {
   "cell_type": "code",
   "execution_count": 26,
   "id": "4b4c99cd-a82a-4ba0-82fa-cc45fd645de3",
   "metadata": {},
   "outputs": [],
   "source": [
    "state_mapping = {\n",
    "    'AL': 'Alabama', 'AK': 'Alaska', 'AZ': 'Arizona', 'AR': 'Arkansas', 'CA': 'California',\n",
    "    'CO': 'Colorado', 'CT': 'Connecticut', 'DE': 'Delaware', 'DC': 'District of Columbia',\n",
    "    'FL': 'Florida', 'GA': 'Georgia', 'HI': 'Hawaii', 'ID': 'Idaho', 'IL': 'Illinois',\n",
    "    'IN': 'Indiana', 'IA': 'Iowa', 'KS': 'Kansas', 'KY': 'Kentucky', 'LA': 'Louisiana',\n",
    "    'ME': 'Maine', 'MD': 'Maryland', 'MA': 'Massachusetts', 'MI': 'Michigan', 'MN': 'Minnesota',\n",
    "    'MS': 'Mississippi', 'MO': 'Missouri', 'MT': 'Montana', 'NE': 'Nebraska', 'NV': 'Nevada',\n",
    "    'NH': 'New Hampshire', 'NJ': 'New Jersey', 'NM': 'New Mexico', 'NY': 'New York',\n",
    "    'NC': 'North Carolina', 'ND': 'North Dakota', 'OH': 'Ohio', 'OK': 'Oklahoma', 'OR': 'Oregon',\n",
    "    'PA': 'Pennsylvania', 'RI': 'Rhode Island', 'SC': 'South Carolina', 'SD': 'South Dakota',\n",
    "    'TN': 'Tennessee', 'TX': 'Texas', 'UT': 'Utah', 'VT': 'Vermont', 'VA': 'Virginia',\n",
    "    'WA': 'Washington', 'WV': 'West Virginia', 'WI': 'Wisconsin', 'WY': 'Wyoming', 'US': 'United States'\n",
    "}"
   ]
  },
  {
   "cell_type": "code",
   "execution_count": 27,
   "id": "0f942568-2890-430f-8916-e26f76681c91",
   "metadata": {},
   "outputs": [],
   "source": [
    "df_county['State_Name'] = df_county['state_abb'].map(state_mapping)\n",
    "df_county.insert(1, 'State_Name', df_county.pop('State_Name'))"
   ]
  },
  {
   "cell_type": "code",
   "execution_count": 28,
   "id": "dd436da4-a03b-4eed-9b84-86520e252153",
   "metadata": {},
   "outputs": [],
   "source": [
    "df_county = df_county.drop('state_abb', axis=1)"
   ]
  },
  {
   "cell_type": "code",
   "execution_count": 29,
   "id": "970dfdb4-35dd-4eec-998d-1a4759625807",
   "metadata": {},
   "outputs": [
    {
     "data": {
      "text/plain": [
       "State_Name                       6\n",
       "County_ID                        0\n",
       "County_Name                      6\n",
       "Medicare_Enrollees_2014          0\n",
       "Ttl_Mcr_Reim_P_E_14_ASRA         2\n",
       "Ttl_Mcr_Reim_P_E_14_P_ASRA       2\n",
       "Hosp_SN_Reim_P_E_14_ASRA        14\n",
       "Hosp_SN_Reim_P_E_14_P_ASRA      14\n",
       "Phys_Reim_P_E_14_ASRA            2\n",
       "Phys_Reim_P_E_14_P_ASRA          2\n",
       "Outp_Fac_Reim_P_E_14_ASRA        2\n",
       "Outp_Fac_Reim_P_E_14_P_ASRA      2\n",
       "HHA_Reim_P_E_14_ASRA           148\n",
       "HHA_Reim_P_E_14_P_ASRA         148\n",
       "Hospice_Reim_P_E_14_ASRA       265\n",
       "Hospice_Reim_P_E_14_P_ASRA     265\n",
       "DME_Reim_P_E_14_ASRA             5\n",
       "DME_Reim_P_E_14_P_ASRA           5\n",
       "dtype: int64"
      ]
     },
     "execution_count": 29,
     "metadata": {},
     "output_type": "execute_result"
    }
   ],
   "source": [
    "df_county.isnull().sum()"
   ]
  },
  {
   "cell_type": "markdown",
   "id": "b6e451a2-5181-4d31-925a-29d956343e9a",
   "metadata": {},
   "source": [
    "##### Droping Rows where State_Name is Null"
   ]
  },
  {
   "cell_type": "code",
   "execution_count": 30,
   "id": "3b82c9bd-c379-460b-ad3b-aeb7ec7126e0",
   "metadata": {},
   "outputs": [],
   "source": [
    "df_county = df_county.dropna(subset=['State_Name'])"
   ]
  },
  {
   "cell_type": "code",
   "execution_count": 31,
   "id": "f444ba47-6672-4039-aa3d-2567f428974b",
   "metadata": {},
   "outputs": [
    {
     "data": {
      "text/plain": [
       "(3138, 18)"
      ]
     },
     "execution_count": 31,
     "metadata": {},
     "output_type": "execute_result"
    }
   ],
   "source": [
    "df_county.shape"
   ]
  },
  {
   "cell_type": "markdown",
   "id": "18d25523-2063-4d7f-aa7f-b0a60f050cbf",
   "metadata": {},
   "source": [
    "##### Mapping columns to impute null values from df_state"
   ]
  },
  {
   "cell_type": "code",
   "execution_count": 32,
   "id": "cfe006c1-ad44-43db-9245-226687b62611",
   "metadata": {},
   "outputs": [],
   "source": [
    "columns_to_map = ['Ttl_Mcr_Reim_P_E_14_ASRA', 'Ttl_Mcr_Reim_P_E_14_P_ASRA', 'Hosp_SN_Reim_P_E_14_ASRA', \n",
    "                  'Hosp_SN_Reim_P_E_14_P_ASRA', 'Phys_Reim_P_E_14_ASRA', 'Phys_Reim_P_E_14_P_ASRA', \n",
    "                  'Outp_Fac_Reim_P_E_14_ASRA', 'Outp_Fac_Reim_P_E_14_P_ASRA', 'HHA_Reim_P_E_14_ASRA', \n",
    "                  'HHA_Reim_P_E_14_P_ASRA', 'Hospice_Reim_P_E_14_ASRA', 'Hospice_Reim_P_E_14_P_ASRA', \n",
    "                  'DME_Reim_P_E_14_ASRA', 'DME_Reim_P_E_14_P_ASRA']"
   ]
  },
  {
   "cell_type": "code",
   "execution_count": 33,
   "id": "22ec0f3c-e0e4-4251-af48-c1755425a708",
   "metadata": {},
   "outputs": [],
   "source": [
    "df_state.set_index('State_Name', inplace=True)"
   ]
  },
  {
   "cell_type": "code",
   "execution_count": 34,
   "id": "332207ff-194e-456e-ba24-75b4448496b9",
   "metadata": {},
   "outputs": [],
   "source": [
    "filled_values = pd.DataFrame(index=df_county.index, columns=columns_to_map)"
   ]
  },
  {
   "cell_type": "markdown",
   "id": "dc5be35d-3f18-427e-99ee-a0ea6a14098e",
   "metadata": {},
   "source": [
    "##### Imputing null values with the values of df_state dataframe"
   ]
  },
  {
   "cell_type": "code",
   "execution_count": 35,
   "id": "98d955e5-5a40-4503-9574-4db091eb0417",
   "metadata": {},
   "outputs": [],
   "source": [
    "# Iterating over each column in columns_to_map and filling null values individually from df_state\n",
    "for col in columns_to_map:\n",
    "    filled_values[col] = df_county.apply(lambda row: row[col] if pd.notna(row[col]) else df_state.at[row['State_Name'], col], axis=1)\n",
    "\n",
    "df_county[columns_to_map] = filled_values"
   ]
  },
  {
   "cell_type": "code",
   "execution_count": 36,
   "id": "91ed8501-2454-45fe-8939-5f0ae465356d",
   "metadata": {},
   "outputs": [
    {
     "data": {
      "text/plain": [
       "State_Name                     0\n",
       "County_ID                      0\n",
       "County_Name                    0\n",
       "Medicare_Enrollees_2014        0\n",
       "Ttl_Mcr_Reim_P_E_14_ASRA       0\n",
       "Ttl_Mcr_Reim_P_E_14_P_ASRA     0\n",
       "Hosp_SN_Reim_P_E_14_ASRA       0\n",
       "Hosp_SN_Reim_P_E_14_P_ASRA     0\n",
       "Phys_Reim_P_E_14_ASRA          0\n",
       "Phys_Reim_P_E_14_P_ASRA        0\n",
       "Outp_Fac_Reim_P_E_14_ASRA      0\n",
       "Outp_Fac_Reim_P_E_14_P_ASRA    0\n",
       "HHA_Reim_P_E_14_ASRA           0\n",
       "HHA_Reim_P_E_14_P_ASRA         0\n",
       "Hospice_Reim_P_E_14_ASRA       0\n",
       "Hospice_Reim_P_E_14_P_ASRA     0\n",
       "DME_Reim_P_E_14_ASRA           0\n",
       "DME_Reim_P_E_14_P_ASRA         0\n",
       "dtype: int64"
      ]
     },
     "execution_count": 36,
     "metadata": {},
     "output_type": "execute_result"
    }
   ],
   "source": [
    "df_county.isnull().sum()"
   ]
  },
  {
   "cell_type": "markdown",
   "id": "29985902-5444-48ba-a0c0-774da67e4573",
   "metadata": {},
   "source": [
    "#### Descriptive Statsitics"
   ]
  },
  {
   "cell_type": "code",
   "execution_count": 37,
   "id": "e24930a1-52ca-4752-8ff4-16027d061d2f",
   "metadata": {},
   "outputs": [
    {
     "data": {
      "text/plain": [
       "(3138, 18)"
      ]
     },
     "execution_count": 37,
     "metadata": {},
     "output_type": "execute_result"
    }
   ],
   "source": [
    "df_county.shape"
   ]
  },
  {
   "cell_type": "code",
   "execution_count": 38,
   "id": "fa1e8a97-51d4-4e8a-bae5-289989cd9d5e",
   "metadata": {},
   "outputs": [
    {
     "data": {
      "text/html": [
       "<div>\n",
       "<style scoped>\n",
       "    .dataframe tbody tr th:only-of-type {\n",
       "        vertical-align: middle;\n",
       "    }\n",
       "\n",
       "    .dataframe tbody tr th {\n",
       "        vertical-align: top;\n",
       "    }\n",
       "\n",
       "    .dataframe thead th {\n",
       "        text-align: right;\n",
       "    }\n",
       "</style>\n",
       "<table border=\"1\" class=\"dataframe\">\n",
       "  <thead>\n",
       "    <tr style=\"text-align: right;\">\n",
       "      <th></th>\n",
       "      <th>County_ID</th>\n",
       "      <th>Medicare_Enrollees_2014</th>\n",
       "      <th>Ttl_Mcr_Reim_P_E_14_ASRA</th>\n",
       "      <th>Ttl_Mcr_Reim_P_E_14_P_ASRA</th>\n",
       "      <th>Hosp_SN_Reim_P_E_14_ASRA</th>\n",
       "      <th>Hosp_SN_Reim_P_E_14_P_ASRA</th>\n",
       "      <th>Phys_Reim_P_E_14_ASRA</th>\n",
       "      <th>Phys_Reim_P_E_14_P_ASRA</th>\n",
       "      <th>Outp_Fac_Reim_P_E_14_ASRA</th>\n",
       "      <th>Outp_Fac_Reim_P_E_14_P_ASRA</th>\n",
       "      <th>HHA_Reim_P_E_14_ASRA</th>\n",
       "      <th>HHA_Reim_P_E_14_P_ASRA</th>\n",
       "      <th>Hospice_Reim_P_E_14_ASRA</th>\n",
       "      <th>Hospice_Reim_P_E_14_P_ASRA</th>\n",
       "      <th>DME_Reim_P_E_14_ASRA</th>\n",
       "      <th>DME_Reim_P_E_14_P_ASRA</th>\n",
       "    </tr>\n",
       "  </thead>\n",
       "  <tbody>\n",
       "    <tr>\n",
       "      <th>count</th>\n",
       "      <td>3138.000000</td>\n",
       "      <td>3.138000e+03</td>\n",
       "      <td>3138.000000</td>\n",
       "      <td>3138.000000</td>\n",
       "      <td>3138.000000</td>\n",
       "      <td>3138.000000</td>\n",
       "      <td>3138.000000</td>\n",
       "      <td>3138.000000</td>\n",
       "      <td>3138.000000</td>\n",
       "      <td>3138.000000</td>\n",
       "      <td>3138.000000</td>\n",
       "      <td>3138.000000</td>\n",
       "      <td>3138.000000</td>\n",
       "      <td>3138.000000</td>\n",
       "      <td>3138.000000</td>\n",
       "      <td>3138.000000</td>\n",
       "    </tr>\n",
       "    <tr>\n",
       "      <th>mean</th>\n",
       "      <td>30464.641810</td>\n",
       "      <td>1.663153e+04</td>\n",
       "      <td>8956.213569</td>\n",
       "      <td>9400.826941</td>\n",
       "      <td>4016.874930</td>\n",
       "      <td>4257.593556</td>\n",
       "      <td>2130.676546</td>\n",
       "      <td>2209.035972</td>\n",
       "      <td>1822.225025</td>\n",
       "      <td>1903.918324</td>\n",
       "      <td>461.608343</td>\n",
       "      <td>487.665443</td>\n",
       "      <td>341.337909</td>\n",
       "      <td>370.925774</td>\n",
       "      <td>214.808843</td>\n",
       "      <td>204.906702</td>\n",
       "    </tr>\n",
       "    <tr>\n",
       "      <th>std</th>\n",
       "      <td>15180.515745</td>\n",
       "      <td>4.661421e+05</td>\n",
       "      <td>1279.915509</td>\n",
       "      <td>1493.685938</td>\n",
       "      <td>774.436025</td>\n",
       "      <td>896.069084</td>\n",
       "      <td>546.233032</td>\n",
       "      <td>533.121045</td>\n",
       "      <td>549.346610</td>\n",
       "      <td>576.524314</td>\n",
       "      <td>326.439765</td>\n",
       "      <td>356.254698</td>\n",
       "      <td>186.910029</td>\n",
       "      <td>211.123750</td>\n",
       "      <td>61.796732</td>\n",
       "      <td>56.611859</td>\n",
       "    </tr>\n",
       "    <tr>\n",
       "      <th>min</th>\n",
       "      <td>1001.000000</td>\n",
       "      <td>1.000000e+01</td>\n",
       "      <td>4137.950000</td>\n",
       "      <td>4443.240000</td>\n",
       "      <td>1579.000000</td>\n",
       "      <td>1651.290000</td>\n",
       "      <td>791.620000</td>\n",
       "      <td>818.250000</td>\n",
       "      <td>624.740000</td>\n",
       "      <td>664.260000</td>\n",
       "      <td>27.730000</td>\n",
       "      <td>23.970000</td>\n",
       "      <td>13.210000</td>\n",
       "      <td>12.710000</td>\n",
       "      <td>17.020000</td>\n",
       "      <td>14.760000</td>\n",
       "    </tr>\n",
       "    <tr>\n",
       "      <th>25%</th>\n",
       "      <td>19003.500000</td>\n",
       "      <td>1.410250e+03</td>\n",
       "      <td>8110.630000</td>\n",
       "      <td>8395.107500</td>\n",
       "      <td>3481.960000</td>\n",
       "      <td>3651.372500</td>\n",
       "      <td>1762.732500</td>\n",
       "      <td>1834.515000</td>\n",
       "      <td>1443.910000</td>\n",
       "      <td>1503.287500</td>\n",
       "      <td>246.197500</td>\n",
       "      <td>255.255000</td>\n",
       "      <td>205.697500</td>\n",
       "      <td>219.302500</td>\n",
       "      <td>173.140000</td>\n",
       "      <td>168.895000</td>\n",
       "    </tr>\n",
       "    <tr>\n",
       "      <th>50%</th>\n",
       "      <td>29184.000000</td>\n",
       "      <td>2.947500e+03</td>\n",
       "      <td>8830.630000</td>\n",
       "      <td>9352.300000</td>\n",
       "      <td>3928.710000</td>\n",
       "      <td>4186.735000</td>\n",
       "      <td>2107.095000</td>\n",
       "      <td>2205.005000</td>\n",
       "      <td>1696.985000</td>\n",
       "      <td>1789.740000</td>\n",
       "      <td>381.125000</td>\n",
       "      <td>395.895000</td>\n",
       "      <td>310.570000</td>\n",
       "      <td>331.540000</td>\n",
       "      <td>207.815000</td>\n",
       "      <td>197.905000</td>\n",
       "    </tr>\n",
       "    <tr>\n",
       "      <th>75%</th>\n",
       "      <td>45086.500000</td>\n",
       "      <td>7.259500e+03</td>\n",
       "      <td>9692.867500</td>\n",
       "      <td>10282.217500</td>\n",
       "      <td>4447.222500</td>\n",
       "      <td>4775.667500</td>\n",
       "      <td>2457.147500</td>\n",
       "      <td>2549.887500</td>\n",
       "      <td>2072.307500</td>\n",
       "      <td>2161.607500</td>\n",
       "      <td>576.342500</td>\n",
       "      <td>608.617500</td>\n",
       "      <td>446.285000</td>\n",
       "      <td>491.890000</td>\n",
       "      <td>246.395000</td>\n",
       "      <td>231.730000</td>\n",
       "    </tr>\n",
       "    <tr>\n",
       "      <th>max</th>\n",
       "      <td>99999.000000</td>\n",
       "      <td>2.609794e+07</td>\n",
       "      <td>15034.460000</td>\n",
       "      <td>18390.100000</td>\n",
       "      <td>8680.370000</td>\n",
       "      <td>11738.530000</td>\n",
       "      <td>4821.870000</td>\n",
       "      <td>4622.110000</td>\n",
       "      <td>5433.390000</td>\n",
       "      <td>5702.390000</td>\n",
       "      <td>2888.710000</td>\n",
       "      <td>3022.530000</td>\n",
       "      <td>1677.560000</td>\n",
       "      <td>1842.020000</td>\n",
       "      <td>660.760000</td>\n",
       "      <td>634.470000</td>\n",
       "    </tr>\n",
       "  </tbody>\n",
       "</table>\n",
       "</div>"
      ],
      "text/plain": [
       "          County_ID  Medicare_Enrollees_2014  Ttl_Mcr_Reim_P_E_14_ASRA  \\\n",
       "count   3138.000000             3.138000e+03               3138.000000   \n",
       "mean   30464.641810             1.663153e+04               8956.213569   \n",
       "std    15180.515745             4.661421e+05               1279.915509   \n",
       "min     1001.000000             1.000000e+01               4137.950000   \n",
       "25%    19003.500000             1.410250e+03               8110.630000   \n",
       "50%    29184.000000             2.947500e+03               8830.630000   \n",
       "75%    45086.500000             7.259500e+03               9692.867500   \n",
       "max    99999.000000             2.609794e+07              15034.460000   \n",
       "\n",
       "       Ttl_Mcr_Reim_P_E_14_P_ASRA  Hosp_SN_Reim_P_E_14_ASRA  \\\n",
       "count                 3138.000000               3138.000000   \n",
       "mean                  9400.826941               4016.874930   \n",
       "std                   1493.685938                774.436025   \n",
       "min                   4443.240000               1579.000000   \n",
       "25%                   8395.107500               3481.960000   \n",
       "50%                   9352.300000               3928.710000   \n",
       "75%                  10282.217500               4447.222500   \n",
       "max                  18390.100000               8680.370000   \n",
       "\n",
       "       Hosp_SN_Reim_P_E_14_P_ASRA  Phys_Reim_P_E_14_ASRA  \\\n",
       "count                 3138.000000            3138.000000   \n",
       "mean                  4257.593556            2130.676546   \n",
       "std                    896.069084             546.233032   \n",
       "min                   1651.290000             791.620000   \n",
       "25%                   3651.372500            1762.732500   \n",
       "50%                   4186.735000            2107.095000   \n",
       "75%                   4775.667500            2457.147500   \n",
       "max                  11738.530000            4821.870000   \n",
       "\n",
       "       Phys_Reim_P_E_14_P_ASRA  Outp_Fac_Reim_P_E_14_ASRA  \\\n",
       "count              3138.000000                3138.000000   \n",
       "mean               2209.035972                1822.225025   \n",
       "std                 533.121045                 549.346610   \n",
       "min                 818.250000                 624.740000   \n",
       "25%                1834.515000                1443.910000   \n",
       "50%                2205.005000                1696.985000   \n",
       "75%                2549.887500                2072.307500   \n",
       "max                4622.110000                5433.390000   \n",
       "\n",
       "       Outp_Fac_Reim_P_E_14_P_ASRA  HHA_Reim_P_E_14_ASRA  \\\n",
       "count                  3138.000000           3138.000000   \n",
       "mean                   1903.918324            461.608343   \n",
       "std                     576.524314            326.439765   \n",
       "min                     664.260000             27.730000   \n",
       "25%                    1503.287500            246.197500   \n",
       "50%                    1789.740000            381.125000   \n",
       "75%                    2161.607500            576.342500   \n",
       "max                    5702.390000           2888.710000   \n",
       "\n",
       "       HHA_Reim_P_E_14_P_ASRA  Hospice_Reim_P_E_14_ASRA  \\\n",
       "count             3138.000000               3138.000000   \n",
       "mean               487.665443                341.337909   \n",
       "std                356.254698                186.910029   \n",
       "min                 23.970000                 13.210000   \n",
       "25%                255.255000                205.697500   \n",
       "50%                395.895000                310.570000   \n",
       "75%                608.617500                446.285000   \n",
       "max               3022.530000               1677.560000   \n",
       "\n",
       "       Hospice_Reim_P_E_14_P_ASRA  DME_Reim_P_E_14_ASRA  \\\n",
       "count                 3138.000000           3138.000000   \n",
       "mean                   370.925774            214.808843   \n",
       "std                    211.123750             61.796732   \n",
       "min                     12.710000             17.020000   \n",
       "25%                    219.302500            173.140000   \n",
       "50%                    331.540000            207.815000   \n",
       "75%                    491.890000            246.395000   \n",
       "max                   1842.020000            660.760000   \n",
       "\n",
       "       DME_Reim_P_E_14_P_ASRA  \n",
       "count             3138.000000  \n",
       "mean               204.906702  \n",
       "std                 56.611859  \n",
       "min                 14.760000  \n",
       "25%                168.895000  \n",
       "50%                197.905000  \n",
       "75%                231.730000  \n",
       "max                634.470000  "
      ]
     },
     "execution_count": 38,
     "metadata": {},
     "output_type": "execute_result"
    }
   ],
   "source": [
    "df_county.describe()"
   ]
  },
  {
   "cell_type": "code",
   "execution_count": 39,
   "id": "a331ec1a-f854-4013-965d-891ac52ce23c",
   "metadata": {},
   "outputs": [
    {
     "data": {
      "text/plain": [
       "County_Name    1871\n",
       "State_Name       52\n",
       "dtype: int64"
      ]
     },
     "execution_count": 39,
     "metadata": {},
     "output_type": "execute_result"
    }
   ],
   "source": [
    "df_county[['County_Name','State_Name']].nunique()"
   ]
  },
  {
   "cell_type": "markdown",
   "id": "1c852285-0e23-41a1-9d1e-cdb36004f791",
   "metadata": {},
   "source": [
    "**Interpretation**\n",
    "- The **mean values** for most reimbursement variables are relatively high, ranging from $1665.98 to 4551.27. This suggests that **healthcare costs can be substantial**, even after adjusting for age, sex, and race. Also,  The** averag**e number of Medicare enrollees** per county is 30,46**4\n",
    "- High **standard deviations** across all reimbursements highlight significant variability in costs among counties.\n",
    "- The **minimum and mavalues** for each reimbursement type show a considerable range, suggesting that some counties have **substantially lower overall healthcare costs compared to others**\n",
    "- The presence of **1871 unique county** names and **52 unique state** names confirms that the data covers a **wide range of geographic location**.\r\n"
   ]
  },
  {
   "cell_type": "markdown",
   "id": "92b5b206-3f80-4029-9c43-571dcb8f24ee",
   "metadata": {},
   "source": [
    "#### Normality Test for Numerical Variables"
   ]
  },
  {
   "cell_type": "markdown",
   "id": "462351a2-5e15-462d-8227-9f3de397bfbb",
   "metadata": {},
   "source": [
    "##### Hypothesis Testing \n",
    "- to check whether numerical variable follow Guassian distribution or not"
   ]
  },
  {
   "cell_type": "code",
   "execution_count": 40,
   "id": "12c07040-51d0-428e-a024-89e2051a433b",
   "metadata": {},
   "outputs": [
    {
     "name": "stdout",
     "output_type": "stream",
     "text": [
      "Ttl_Mcr_Reim_P_E_14_ASRA: p-value = 5.0133901506107416e-20\n",
      "Ttl_Mcr_Reim_P_E_14_P_ASRA: p-value = 1.956616699173505e-13\n",
      "Hosp_SN_Reim_P_E_14_ASRA: p-value = 8.419194277797046e-27\n",
      "Hosp_SN_Reim_P_E_14_P_ASRA: p-value = 1.9460528000032923e-24\n",
      "Phys_Reim_P_E_14_ASRA: p-value = 1.9187880063813137e-21\n",
      "Phys_Reim_P_E_14_P_ASRA: p-value = 2.2567779242588237e-11\n",
      "Outp_Fac_Reim_P_E_14_ASRA: p-value = 2.3962343869800804e-40\n",
      "Outp_Fac_Reim_P_E_14_P_ASRA: p-value = 2.4803061291263264e-38\n",
      "HHA_Reim_P_E_14_ASRA: p-value = 0.0\n",
      "HHA_Reim_P_E_14_P_ASRA: p-value = 0.0\n",
      "Hospice_Reim_P_E_14_ASRA: p-value = 1.5728368109560343e-34\n",
      "Hospice_Reim_P_E_14_P_ASRA: p-value = 1.0428658232251523e-37\n",
      "DME_Reim_P_E_14_ASRA: p-value = 5.515854897165718e-31\n",
      "DME_Reim_P_E_14_P_ASRA: p-value = 8.520748962797898e-34\n"
     ]
    }
   ],
   "source": [
    "for col in numerical_cols:\n",
    "    stat, p = shapiro(df_county[col])\n",
    "    print(f'{col}: p-value = {p}')"
   ]
  },
  {
   "cell_type": "markdown",
   "id": "58f658e7-ef51-4cfe-9140-dfb3a3809ba2",
   "metadata": {},
   "source": [
    "**Interpretation**\n",
    "- All the p-values are significantly less than 0.05, indicating that we reject the null hypothesis of normality for all variables. Therefore, none of the variables appear to follow a Gaussian (normal) distribution."
   ]
  },
  {
   "cell_type": "markdown",
   "id": "022c5b19-82c6-4e58-b128-fd6c243a67e8",
   "metadata": {},
   "source": [
    "#### Correlation\n",
    "- correlation matrix of target variable (Ttl_Mcr_Reim_P_E_14_P_ASRA) and all other variable To check which factor is affecting our target variable"
   ]
  },
  {
   "cell_type": "code",
   "execution_count": 41,
   "id": "6daab54c-5e69-4a40-9e3b-44d81d8fdc63",
   "metadata": {},
   "outputs": [
    {
     "data": {
      "image/png": "[encoded data removed]",
      "text/plain": [
       "<Figure size 1500x400 with 1 Axes>"
      ]
     },
     "metadata": {},
     "output_type": "display_data"
    }
   ],
   "source": [
    "correlation_with_target = df_county[['Medicare_Enrollees_2014']+ numerical_cols].corrwith(df_county['Ttl_Mcr_Reim_P_E_14_P_ASRA'])\n",
    "\n",
    "plt.figure(figsize=(15, 4))\n",
    "sns.barplot(x=correlation_with_target.index, y=correlation_with_target.values)\n",
    "plt.title('Correlation with Target Variable (Ttl_Mcr_Reim_P_E_14_P_ASRA)')\n",
    "plt.xlabel('Features')\n",
    "plt.ylabel('Correlation')\n",
    "plt.xticks(rotation=90) \n",
    "plt.show()"
   ]
  },
  {
   "cell_type": "markdown",
   "id": "e7e72fbd-4bea-44dc-895e-27406d71422d",
   "metadata": {},
   "source": [
    " **Interpretation:** <br>\n",
    "Overall, weak positive correlations between the target variable (Ttl_Mcr_Reim_P_E_14_P_ASRA) and several other variables. This means that counties with **higher values in these variables tend to have slightly higher total Medicare reimbursements** per enrollee. \n",
    "\n",
    "- Medicare_Enrollees_2014: Counties with a higher number of enrollees might have slightly higher overall costs, but the correlation is weak, implying other factors are likely at play.\n",
    "- Reimbursement variables for specific healthcare services (Hospital, Physician, Outpatient, Home Health) show weak positive correlations, suggesting that counties with higher spending in these areas might have slightly higher total costs, but the relationships are not strong."
   ]
  },
  {
   "cell_type": "markdown",
   "id": "71cc0ae3-9ed0-4ab0-b691-51e3b8147e0f",
   "metadata": {},
   "source": [
    "#### Final Dataset "
   ]
  },
  {
   "cell_type": "code",
   "execution_count": 42,
   "id": "de47bd48-e34f-4b8a-9f62-42e79b8f9be2",
   "metadata": {},
   "outputs": [
    {
     "data": {
      "text/html": [
       "<div>\n",
       "<style scoped>\n",
       "    .dataframe tbody tr th:only-of-type {\n",
       "        vertical-align: middle;\n",
       "    }\n",
       "\n",
       "    .dataframe tbody tr th {\n",
       "        vertical-align: top;\n",
       "    }\n",
       "\n",
       "    .dataframe thead th {\n",
       "        text-align: right;\n",
       "    }\n",
       "</style>\n",
       "<table border=\"1\" class=\"dataframe\">\n",
       "  <thead>\n",
       "    <tr style=\"text-align: right;\">\n",
       "      <th></th>\n",
       "      <th>State_Name</th>\n",
       "      <th>County_ID</th>\n",
       "      <th>County_Name</th>\n",
       "      <th>Medicare_Enrollees_2014</th>\n",
       "      <th>Ttl_Mcr_Reim_P_E_14_ASRA</th>\n",
       "      <th>Ttl_Mcr_Reim_P_E_14_P_ASRA</th>\n",
       "      <th>Hosp_SN_Reim_P_E_14_ASRA</th>\n",
       "      <th>Hosp_SN_Reim_P_E_14_P_ASRA</th>\n",
       "      <th>Phys_Reim_P_E_14_ASRA</th>\n",
       "      <th>Phys_Reim_P_E_14_P_ASRA</th>\n",
       "      <th>Outp_Fac_Reim_P_E_14_ASRA</th>\n",
       "      <th>Outp_Fac_Reim_P_E_14_P_ASRA</th>\n",
       "      <th>HHA_Reim_P_E_14_ASRA</th>\n",
       "      <th>HHA_Reim_P_E_14_P_ASRA</th>\n",
       "      <th>Hospice_Reim_P_E_14_ASRA</th>\n",
       "      <th>Hospice_Reim_P_E_14_P_ASRA</th>\n",
       "      <th>DME_Reim_P_E_14_ASRA</th>\n",
       "      <th>DME_Reim_P_E_14_P_ASRA</th>\n",
       "    </tr>\n",
       "  </thead>\n",
       "  <tbody>\n",
       "    <tr>\n",
       "      <th>1</th>\n",
       "      <td>Alabama</td>\n",
       "      <td>1001.0</td>\n",
       "      <td>Autauga County</td>\n",
       "      <td>4649.0</td>\n",
       "      <td>8498.60</td>\n",
       "      <td>9858.62</td>\n",
       "      <td>3223.91</td>\n",
       "      <td>4053.20</td>\n",
       "      <td>2371.46</td>\n",
       "      <td>2539.18</td>\n",
       "      <td>1711.69</td>\n",
       "      <td>1948.61</td>\n",
       "      <td>419.55</td>\n",
       "      <td>476.88</td>\n",
       "      <td>520.74</td>\n",
       "      <td>627.51</td>\n",
       "      <td>251.58</td>\n",
       "      <td>232.72</td>\n",
       "    </tr>\n",
       "    <tr>\n",
       "      <th>2</th>\n",
       "      <td>Alabama</td>\n",
       "      <td>1003.0</td>\n",
       "      <td>Baldwin County</td>\n",
       "      <td>22607.0</td>\n",
       "      <td>8028.73</td>\n",
       "      <td>9412.78</td>\n",
       "      <td>2809.21</td>\n",
       "      <td>3695.90</td>\n",
       "      <td>2689.56</td>\n",
       "      <td>2846.65</td>\n",
       "      <td>1309.54</td>\n",
       "      <td>1519.31</td>\n",
       "      <td>575.77</td>\n",
       "      <td>682.03</td>\n",
       "      <td>385.12</td>\n",
       "      <td>451.39</td>\n",
       "      <td>247.73</td>\n",
       "      <td>226.87</td>\n",
       "    </tr>\n",
       "    <tr>\n",
       "      <th>3</th>\n",
       "      <td>Alabama</td>\n",
       "      <td>1005.0</td>\n",
       "      <td>Barbour County</td>\n",
       "      <td>3037.0</td>\n",
       "      <td>8707.97</td>\n",
       "      <td>10117.09</td>\n",
       "      <td>3367.89</td>\n",
       "      <td>4167.67</td>\n",
       "      <td>2441.77</td>\n",
       "      <td>2609.60</td>\n",
       "      <td>1522.81</td>\n",
       "      <td>1769.72</td>\n",
       "      <td>538.92</td>\n",
       "      <td>628.08</td>\n",
       "      <td>613.40</td>\n",
       "      <td>731.40</td>\n",
       "      <td>255.88</td>\n",
       "      <td>235.11</td>\n",
       "    </tr>\n",
       "    <tr>\n",
       "      <th>4</th>\n",
       "      <td>Alabama</td>\n",
       "      <td>1007.0</td>\n",
       "      <td>Bibb County</td>\n",
       "      <td>1839.0</td>\n",
       "      <td>9809.13</td>\n",
       "      <td>10817.25</td>\n",
       "      <td>4100.45</td>\n",
       "      <td>4740.37</td>\n",
       "      <td>2559.38</td>\n",
       "      <td>2668.62</td>\n",
       "      <td>1672.08</td>\n",
       "      <td>1808.62</td>\n",
       "      <td>901.38</td>\n",
       "      <td>967.68</td>\n",
       "      <td>425.74</td>\n",
       "      <td>482.73</td>\n",
       "      <td>181.96</td>\n",
       "      <td>192.73</td>\n",
       "    </tr>\n",
       "    <tr>\n",
       "      <th>5</th>\n",
       "      <td>Alabama</td>\n",
       "      <td>1009.0</td>\n",
       "      <td>Blount County</td>\n",
       "      <td>4408.0</td>\n",
       "      <td>8921.75</td>\n",
       "      <td>10035.61</td>\n",
       "      <td>3533.54</td>\n",
       "      <td>4229.56</td>\n",
       "      <td>2643.92</td>\n",
       "      <td>2764.35</td>\n",
       "      <td>1412.28</td>\n",
       "      <td>1563.90</td>\n",
       "      <td>554.54</td>\n",
       "      <td>611.15</td>\n",
       "      <td>587.87</td>\n",
       "      <td>681.73</td>\n",
       "      <td>210.47</td>\n",
       "      <td>229.42</td>\n",
       "    </tr>\n",
       "    <tr>\n",
       "      <th>...</th>\n",
       "      <td>...</td>\n",
       "      <td>...</td>\n",
       "      <td>...</td>\n",
       "      <td>...</td>\n",
       "      <td>...</td>\n",
       "      <td>...</td>\n",
       "      <td>...</td>\n",
       "      <td>...</td>\n",
       "      <td>...</td>\n",
       "      <td>...</td>\n",
       "      <td>...</td>\n",
       "      <td>...</td>\n",
       "      <td>...</td>\n",
       "      <td>...</td>\n",
       "      <td>...</td>\n",
       "      <td>...</td>\n",
       "      <td>...</td>\n",
       "      <td>...</td>\n",
       "    </tr>\n",
       "    <tr>\n",
       "      <th>3140</th>\n",
       "      <td>Wyoming</td>\n",
       "      <td>56039.0</td>\n",
       "      <td>Teton County</td>\n",
       "      <td>2268.0</td>\n",
       "      <td>7785.43</td>\n",
       "      <td>7114.08</td>\n",
       "      <td>3421.10</td>\n",
       "      <td>2747.99</td>\n",
       "      <td>2155.31</td>\n",
       "      <td>2182.88</td>\n",
       "      <td>1628.40</td>\n",
       "      <td>1594.82</td>\n",
       "      <td>201.62</td>\n",
       "      <td>194.01</td>\n",
       "      <td>125.58</td>\n",
       "      <td>127.79</td>\n",
       "      <td>164.26</td>\n",
       "      <td>158.57</td>\n",
       "    </tr>\n",
       "    <tr>\n",
       "      <th>3141</th>\n",
       "      <td>Wyoming</td>\n",
       "      <td>56041.0</td>\n",
       "      <td>Uinta County</td>\n",
       "      <td>1709.0</td>\n",
       "      <td>8138.14</td>\n",
       "      <td>7856.70</td>\n",
       "      <td>3854.64</td>\n",
       "      <td>3615.60</td>\n",
       "      <td>1832.84</td>\n",
       "      <td>1819.05</td>\n",
       "      <td>1403.00</td>\n",
       "      <td>1381.70</td>\n",
       "      <td>536.52</td>\n",
       "      <td>524.38</td>\n",
       "      <td>202.51</td>\n",
       "      <td>214.82</td>\n",
       "      <td>317.72</td>\n",
       "      <td>305.68</td>\n",
       "    </tr>\n",
       "    <tr>\n",
       "      <th>3142</th>\n",
       "      <td>Wyoming</td>\n",
       "      <td>56043.0</td>\n",
       "      <td>Washakie County</td>\n",
       "      <td>1465.0</td>\n",
       "      <td>8251.25</td>\n",
       "      <td>8014.82</td>\n",
       "      <td>4057.12</td>\n",
       "      <td>3921.70</td>\n",
       "      <td>1632.02</td>\n",
       "      <td>1613.11</td>\n",
       "      <td>2056.86</td>\n",
       "      <td>2003.48</td>\n",
       "      <td>131.74</td>\n",
       "      <td>128.78</td>\n",
       "      <td>128.40</td>\n",
       "      <td>134.55</td>\n",
       "      <td>318.86</td>\n",
       "      <td>294.05</td>\n",
       "    </tr>\n",
       "    <tr>\n",
       "      <th>3143</th>\n",
       "      <td>Wyoming</td>\n",
       "      <td>56045.0</td>\n",
       "      <td>Weston County</td>\n",
       "      <td>1092.0</td>\n",
       "      <td>7647.56</td>\n",
       "      <td>7637.86</td>\n",
       "      <td>3398.88</td>\n",
       "      <td>3454.09</td>\n",
       "      <td>1441.57</td>\n",
       "      <td>1453.38</td>\n",
       "      <td>2207.11</td>\n",
       "      <td>2147.58</td>\n",
       "      <td>252.39</td>\n",
       "      <td>245.66</td>\n",
       "      <td>128.40</td>\n",
       "      <td>134.55</td>\n",
       "      <td>346.49</td>\n",
       "      <td>335.90</td>\n",
       "    </tr>\n",
       "    <tr>\n",
       "      <th>3144</th>\n",
       "      <td>United States</td>\n",
       "      <td>99999.0</td>\n",
       "      <td>United States</td>\n",
       "      <td>26097945.0</td>\n",
       "      <td>9588.57</td>\n",
       "      <td>9588.57</td>\n",
       "      <td>4243.61</td>\n",
       "      <td>4243.61</td>\n",
       "      <td>2682.21</td>\n",
       "      <td>2682.21</td>\n",
       "      <td>1578.69</td>\n",
       "      <td>1578.69</td>\n",
       "      <td>537.44</td>\n",
       "      <td>537.44</td>\n",
       "      <td>359.34</td>\n",
       "      <td>359.34</td>\n",
       "      <td>187.28</td>\n",
       "      <td>187.28</td>\n",
       "    </tr>\n",
       "  </tbody>\n",
       "</table>\n",
       "<p>3138 rows × 18 columns</p>\n",
       "</div>"
      ],
      "text/plain": [
       "         State_Name  County_ID      County_Name  Medicare_Enrollees_2014  \\\n",
       "1           Alabama     1001.0   Autauga County                   4649.0   \n",
       "2           Alabama     1003.0   Baldwin County                  22607.0   \n",
       "3           Alabama     1005.0   Barbour County                   3037.0   \n",
       "4           Alabama     1007.0      Bibb County                   1839.0   \n",
       "5           Alabama     1009.0    Blount County                   4408.0   \n",
       "...             ...        ...              ...                      ...   \n",
       "3140        Wyoming    56039.0     Teton County                   2268.0   \n",
       "3141        Wyoming    56041.0     Uinta County                   1709.0   \n",
       "3142        Wyoming    56043.0  Washakie County                   1465.0   \n",
       "3143        Wyoming    56045.0    Weston County                   1092.0   \n",
       "3144  United States    99999.0    United States               26097945.0   \n",
       "\n",
       "      Ttl_Mcr_Reim_P_E_14_ASRA  Ttl_Mcr_Reim_P_E_14_P_ASRA  \\\n",
       "1                      8498.60                     9858.62   \n",
       "2                      8028.73                     9412.78   \n",
       "3                      8707.97                    10117.09   \n",
       "4                      9809.13                    10817.25   \n",
       "5                      8921.75                    10035.61   \n",
       "...                        ...                         ...   \n",
       "3140                   7785.43                     7114.08   \n",
       "3141                   8138.14                     7856.70   \n",
       "3142                   8251.25                     8014.82   \n",
       "3143                   7647.56                     7637.86   \n",
       "3144                   9588.57                     9588.57   \n",
       "\n",
       "      Hosp_SN_Reim_P_E_14_ASRA  Hosp_SN_Reim_P_E_14_P_ASRA  \\\n",
       "1                      3223.91                     4053.20   \n",
       "2                      2809.21                     3695.90   \n",
       "3                      3367.89                     4167.67   \n",
       "4                      4100.45                     4740.37   \n",
       "5                      3533.54                     4229.56   \n",
       "...                        ...                         ...   \n",
       "3140                   3421.10                     2747.99   \n",
       "3141                   3854.64                     3615.60   \n",
       "3142                   4057.12                     3921.70   \n",
       "3143                   3398.88                     3454.09   \n",
       "3144                   4243.61                     4243.61   \n",
       "\n",
       "      Phys_Reim_P_E_14_ASRA  Phys_Reim_P_E_14_P_ASRA  \\\n",
       "1                   2371.46                  2539.18   \n",
       "2                   2689.56                  2846.65   \n",
       "3                   2441.77                  2609.60   \n",
       "4                   2559.38                  2668.62   \n",
       "5                   2643.92                  2764.35   \n",
       "...                     ...                      ...   \n",
       "3140                2155.31                  2182.88   \n",
       "3141                1832.84                  1819.05   \n",
       "3142                1632.02                  1613.11   \n",
       "3143                1441.57                  1453.38   \n",
       "3144                2682.21                  2682.21   \n",
       "\n",
       "      Outp_Fac_Reim_P_E_14_ASRA  Outp_Fac_Reim_P_E_14_P_ASRA  \\\n",
       "1                       1711.69                      1948.61   \n",
       "2                       1309.54                      1519.31   \n",
       "3                       1522.81                      1769.72   \n",
       "4                       1672.08                      1808.62   \n",
       "5                       1412.28                      1563.90   \n",
       "...                         ...                          ...   \n",
       "3140                    1628.40                      1594.82   \n",
       "3141                    1403.00                      1381.70   \n",
       "3142                    2056.86                      2003.48   \n",
       "3143                    2207.11                      2147.58   \n",
       "3144                    1578.69                      1578.69   \n",
       "\n",
       "      HHA_Reim_P_E_14_ASRA  HHA_Reim_P_E_14_P_ASRA  Hospice_Reim_P_E_14_ASRA  \\\n",
       "1                   419.55                  476.88                    520.74   \n",
       "2                   575.77                  682.03                    385.12   \n",
       "3                   538.92                  628.08                    613.40   \n",
       "4                   901.38                  967.68                    425.74   \n",
       "5                   554.54                  611.15                    587.87   \n",
       "...                    ...                     ...                       ...   \n",
       "3140                201.62                  194.01                    125.58   \n",
       "3141                536.52                  524.38                    202.51   \n",
       "3142                131.74                  128.78                    128.40   \n",
       "3143                252.39                  245.66                    128.40   \n",
       "3144                537.44                  537.44                    359.34   \n",
       "\n",
       "      Hospice_Reim_P_E_14_P_ASRA  DME_Reim_P_E_14_ASRA  DME_Reim_P_E_14_P_ASRA  \n",
       "1                         627.51                251.58                  232.72  \n",
       "2                         451.39                247.73                  226.87  \n",
       "3                         731.40                255.88                  235.11  \n",
       "4                         482.73                181.96                  192.73  \n",
       "5                         681.73                210.47                  229.42  \n",
       "...                          ...                   ...                     ...  \n",
       "3140                      127.79                164.26                  158.57  \n",
       "3141                      214.82                317.72                  305.68  \n",
       "3142                      134.55                318.86                  294.05  \n",
       "3143                      134.55                346.49                  335.90  \n",
       "3144                      359.34                187.28                  187.28  \n",
       "\n",
       "[3138 rows x 18 columns]"
      ]
     },
     "execution_count": 42,
     "metadata": {},
     "output_type": "execute_result"
    }
   ],
   "source": [
    "df_county"
   ]
  },
  {
   "cell_type": "markdown",
   "id": "83f0e714-8c05-42eb-8b11-a7ae1908128c",
   "metadata": {},
   "source": [
    "## Model Building "
   ]
  },
  {
   "cell_type": "markdown",
   "id": "82b83579-5579-4d8e-9dbd-4b06e587d3f5",
   "metadata": {},
   "source": [
    "### Deciding Variables"
   ]
  },
  {
   "cell_type": "code",
   "execution_count": 43,
   "id": "b8574104-34d9-4047-a322-afe6b5d30560",
   "metadata": {},
   "outputs": [],
   "source": [
    "X= df_county.drop('Ttl_Mcr_Reim_P_E_14_P_ASRA', axis=1)            #Independent Variables\n",
    "y= df_county['Ttl_Mcr_Reim_P_E_14_P_ASRA']                         #Dependent Variable"
   ]
  },
  {
   "cell_type": "markdown",
   "id": "fcc7d54c-cb39-40a5-8496-ee3fff5b9749",
   "metadata": {},
   "source": [
    "### Spliting the data"
   ]
  },
  {
   "cell_type": "code",
   "execution_count": 44,
   "id": "36360073-0aed-4e85-860c-959498f3f5b2",
   "metadata": {},
   "outputs": [],
   "source": [
    "X_train, X_test, y_train, y_test= train_test_split(X,y, test_size=.2,random_state=42)"
   ]
  },
  {
   "cell_type": "markdown",
   "id": "4c14ae57-a90e-47e9-8d4f-f0b12f931e8a",
   "metadata": {},
   "source": [
    "### Encoding "
   ]
  },
  {
   "cell_type": "code",
   "execution_count": 45,
   "id": "841e5f76-f778-4bc5-a6e7-7355d3cea4d2",
   "metadata": {},
   "outputs": [
    {
     "data": {
      "text/html": [
       "<div>\n",
       "<style scoped>\n",
       "    .dataframe tbody tr th:only-of-type {\n",
       "        vertical-align: middle;\n",
       "    }\n",
       "\n",
       "    .dataframe tbody tr th {\n",
       "        vertical-align: top;\n",
       "    }\n",
       "\n",
       "    .dataframe thead th {\n",
       "        text-align: right;\n",
       "    }\n",
       "</style>\n",
       "<table border=\"1\" class=\"dataframe\">\n",
       "  <thead>\n",
       "    <tr style=\"text-align: right;\">\n",
       "      <th></th>\n",
       "      <th>State_Name</th>\n",
       "      <th>County_Name</th>\n",
       "    </tr>\n",
       "  </thead>\n",
       "  <tbody>\n",
       "    <tr>\n",
       "      <th>2791</th>\n",
       "      <td>Utah</td>\n",
       "      <td>Millard County</td>\n",
       "    </tr>\n",
       "    <tr>\n",
       "      <th>1798</th>\n",
       "      <td>New Mexico</td>\n",
       "      <td>Chaves County</td>\n",
       "    </tr>\n",
       "    <tr>\n",
       "      <th>2832</th>\n",
       "      <td>Virginia</td>\n",
       "      <td>Botetourt County</td>\n",
       "    </tr>\n",
       "    <tr>\n",
       "      <th>1064</th>\n",
       "      <td>Kentucky</td>\n",
       "      <td>Logan County</td>\n",
       "    </tr>\n",
       "    <tr>\n",
       "      <th>227</th>\n",
       "      <td>California</td>\n",
       "      <td>San Mateo County</td>\n",
       "    </tr>\n",
       "    <tr>\n",
       "      <th>...</th>\n",
       "      <td>...</td>\n",
       "      <td>...</td>\n",
       "    </tr>\n",
       "    <tr>\n",
       "      <th>3099</th>\n",
       "      <td>Wisconsin</td>\n",
       "      <td>Price County</td>\n",
       "    </tr>\n",
       "    <tr>\n",
       "      <th>1102</th>\n",
       "      <td>Kentucky</td>\n",
       "      <td>Taylor County</td>\n",
       "    </tr>\n",
       "    <tr>\n",
       "      <th>1137</th>\n",
       "      <td>Louisiana</td>\n",
       "      <td>Iberville Parish</td>\n",
       "    </tr>\n",
       "    <tr>\n",
       "      <th>1301</th>\n",
       "      <td>Michigan</td>\n",
       "      <td>Ottawa County</td>\n",
       "    </tr>\n",
       "    <tr>\n",
       "      <th>867</th>\n",
       "      <td>Iowa</td>\n",
       "      <td>Pottawattamie County</td>\n",
       "    </tr>\n",
       "  </tbody>\n",
       "</table>\n",
       "<p>2510 rows × 2 columns</p>\n",
       "</div>"
      ],
      "text/plain": [
       "      State_Name           County_Name\n",
       "2791        Utah        Millard County\n",
       "1798  New Mexico         Chaves County\n",
       "2832    Virginia      Botetourt County\n",
       "1064    Kentucky          Logan County\n",
       "227   California      San Mateo County\n",
       "...          ...                   ...\n",
       "3099   Wisconsin          Price County\n",
       "1102    Kentucky         Taylor County\n",
       "1137   Louisiana      Iberville Parish\n",
       "1301    Michigan         Ottawa County\n",
       "867         Iowa  Pottawattamie County\n",
       "\n",
       "[2510 rows x 2 columns]"
      ]
     },
     "execution_count": 45,
     "metadata": {},
     "output_type": "execute_result"
    }
   ],
   "source": [
    "X_train[['State_Name','County_Name']]"
   ]
  },
  {
   "cell_type": "markdown",
   "id": "dd9a8ef3-4a7b-4e48-920a-23b946e503a3",
   "metadata": {},
   "source": [
    "#### Target Encoding \n",
    "- It captures the **relationship between categorical variables and the target variable** by encoding categories with the **mean of the target variable** for each category. "
   ]
  },
  {
   "cell_type": "code",
   "execution_count": 46,
   "id": "96108baa-1f3b-4f1d-a5b9-feb32ad01d33",
   "metadata": {},
   "outputs": [
    {
     "data": {
      "text/html": [
       "<style>#sk-container-id-1 {color: black;background-color: white;}#sk-container-id-1 pre{padding: 0;}#sk-container-id-1 div.sk-toggleable {background-color: white;}#sk-container-id-1 label.sk-toggleable__label {cursor: pointer;display: block;width: 100%;margin-bottom: 0;padding: 0.3em;box-sizing: border-box;text-align: center;}#sk-container-id-1 label.sk-toggleable__label-arrow:before {content: \"▸\";float: left;margin-right: 0.25em;color: #696969;}#sk-container-id-1 label.sk-toggleable__label-arrow:hover:before {color: black;}#sk-container-id-1 div.sk-estimator:hover label.sk-toggleable__label-arrow:before {color: black;}#sk-container-id-1 div.sk-toggleable__content {max-height: 0;max-width: 0;overflow: hidden;text-align: left;background-color: #f0f8ff;}#sk-container-id-1 div.sk-toggleable__content pre {margin: 0.2em;color: black;border-radius: 0.25em;background-color: #f0f8ff;}#sk-container-id-1 input.sk-toggleable__control:checked~div.sk-toggleable__content {max-height: 200px;max-width: 100%;overflow: auto;}#sk-container-id-1 input.sk-toggleable__control:checked~label.sk-toggleable__label-arrow:before {content: \"▾\";}#sk-container-id-1 div.sk-estimator input.sk-toggleable__control:checked~label.sk-toggleable__label {background-color: #d4ebff;}#sk-container-id-1 div.sk-label input.sk-toggleable__control:checked~label.sk-toggleable__label {background-color: #d4ebff;}#sk-container-id-1 input.sk-hidden--visually {border: 0;clip: rect(1px 1px 1px 1px);clip: rect(1px, 1px, 1px, 1px);height: 1px;margin: -1px;overflow: hidden;padding: 0;position: absolute;width: 1px;}#sk-container-id-1 div.sk-estimator {font-family: monospace;background-color: #f0f8ff;border: 1px dotted black;border-radius: 0.25em;box-sizing: border-box;margin-bottom: 0.5em;}#sk-container-id-1 div.sk-estimator:hover {background-color: #d4ebff;}#sk-container-id-1 div.sk-parallel-item::after {content: \"\";width: 100%;border-bottom: 1px solid gray;flex-grow: 1;}#sk-container-id-1 div.sk-label:hover label.sk-toggleable__label {background-color: #d4ebff;}#sk-container-id-1 div.sk-serial::before {content: \"\";position: absolute;border-left: 1px solid gray;box-sizing: border-box;top: 0;bottom: 0;left: 50%;z-index: 0;}#sk-container-id-1 div.sk-serial {display: flex;flex-direction: column;align-items: center;background-color: white;padding-right: 0.2em;padding-left: 0.2em;position: relative;}#sk-container-id-1 div.sk-item {position: relative;z-index: 1;}#sk-container-id-1 div.sk-parallel {display: flex;align-items: stretch;justify-content: center;background-color: white;position: relative;}#sk-container-id-1 div.sk-item::before, #sk-container-id-1 div.sk-parallel-item::before {content: \"\";position: absolute;border-left: 1px solid gray;box-sizing: border-box;top: 0;bottom: 0;left: 50%;z-index: -1;}#sk-container-id-1 div.sk-parallel-item {display: flex;flex-direction: column;z-index: 1;position: relative;background-color: white;}#sk-container-id-1 div.sk-parallel-item:first-child::after {align-self: flex-end;width: 50%;}#sk-container-id-1 div.sk-parallel-item:last-child::after {align-self: flex-start;width: 50%;}#sk-container-id-1 div.sk-parallel-item:only-child::after {width: 0;}#sk-container-id-1 div.sk-dashed-wrapped {border: 1px dashed gray;margin: 0 0.4em 0.5em 0.4em;box-sizing: border-box;padding-bottom: 0.4em;background-color: white;}#sk-container-id-1 div.sk-label label {font-family: monospace;font-weight: bold;display: inline-block;line-height: 1.2em;}#sk-container-id-1 div.sk-label-container {text-align: center;}#sk-container-id-1 div.sk-container {/* jupyter's `normalize.less` sets `[hidden] { display: none; }` but bootstrap.min.css set `[hidden] { display: none !important; }` so we also need the `!important` here to be able to override the default hidden behavior on the sphinx rendered scikit-learn.org. See: https://github.com/scikit-learn/scikit-learn/issues/21755 */display: inline-block !important;position: relative;}#sk-container-id-1 div.sk-text-repr-fallback {display: none;}</style><div id=\"sk-container-id-1\" class=\"sk-top-container\"><div class=\"sk-text-repr-fallback\"><pre>TargetEncoder()</pre><b>In a Jupyter environment, please rerun this cell to show the HTML representation or trust the notebook. <br />On GitHub, the HTML representation is unable to render, please try loading this page with nbviewer.org.</b></div><div class=\"sk-container\" hidden><div class=\"sk-item\"><div class=\"sk-estimator sk-toggleable\"><input class=\"sk-toggleable__control sk-hidden--visually\" id=\"sk-estimator-id-1\" type=\"checkbox\" checked><label for=\"sk-estimator-id-1\" class=\"sk-toggleable__label sk-toggleable__label-arrow\">TargetEncoder</label><div class=\"sk-toggleable__content\"><pre>TargetEncoder()</pre></div></div></div></div></div>"
      ],
      "text/plain": [
       "TargetEncoder()"
      ]
     },
     "execution_count": 46,
     "metadata": {},
     "output_type": "execute_result"
    }
   ],
   "source": [
    "target_encoder = ce.TargetEncoder()\n",
    "target_encoder"
   ]
  },
  {
   "cell_type": "code",
   "execution_count": 47,
   "id": "a69202c3-e56f-48d1-8e8d-9064f69c37a1",
   "metadata": {},
   "outputs": [],
   "source": [
    "X_train = target_encoder.fit_transform(X_train, y_train)"
   ]
  },
  {
   "cell_type": "code",
   "execution_count": 48,
   "id": "9299067c-490e-4c75-824f-3e6da99e4455",
   "metadata": {},
   "outputs": [],
   "source": [
    "X_test = target_encoder.transform(X_test)"
   ]
  },
  {
   "cell_type": "code",
   "execution_count": 49,
   "id": "401e8b39-911b-4895-9180-5941cbd04989",
   "metadata": {},
   "outputs": [
    {
     "data": {
      "text/html": [
       "<div>\n",
       "<style scoped>\n",
       "    .dataframe tbody tr th:only-of-type {\n",
       "        vertical-align: middle;\n",
       "    }\n",
       "\n",
       "    .dataframe tbody tr th {\n",
       "        vertical-align: top;\n",
       "    }\n",
       "\n",
       "    .dataframe thead th {\n",
       "        text-align: right;\n",
       "    }\n",
       "</style>\n",
       "<table border=\"1\" class=\"dataframe\">\n",
       "  <thead>\n",
       "    <tr style=\"text-align: right;\">\n",
       "      <th></th>\n",
       "      <th>State_Name</th>\n",
       "      <th>County_Name</th>\n",
       "    </tr>\n",
       "  </thead>\n",
       "  <tbody>\n",
       "    <tr>\n",
       "      <th>2791</th>\n",
       "      <td>8785.308527</td>\n",
       "      <td>9307.811370</td>\n",
       "    </tr>\n",
       "    <tr>\n",
       "      <th>1798</th>\n",
       "      <td>8227.393750</td>\n",
       "      <td>9397.146451</td>\n",
       "    </tr>\n",
       "    <tr>\n",
       "      <th>2832</th>\n",
       "      <td>8815.058723</td>\n",
       "      <td>9254.770048</td>\n",
       "    </tr>\n",
       "    <tr>\n",
       "      <th>1064</th>\n",
       "      <td>10743.889295</td>\n",
       "      <td>9623.238831</td>\n",
       "    </tr>\n",
       "    <tr>\n",
       "      <th>227</th>\n",
       "      <td>8105.883150</td>\n",
       "      <td>9142.334208</td>\n",
       "    </tr>\n",
       "    <tr>\n",
       "      <th>...</th>\n",
       "      <td>...</td>\n",
       "      <td>...</td>\n",
       "    </tr>\n",
       "    <tr>\n",
       "      <th>3099</th>\n",
       "      <td>8255.920337</td>\n",
       "      <td>9333.134382</td>\n",
       "    </tr>\n",
       "    <tr>\n",
       "      <th>1102</th>\n",
       "      <td>10743.889295</td>\n",
       "      <td>9494.318443</td>\n",
       "    </tr>\n",
       "    <tr>\n",
       "      <th>1137</th>\n",
       "      <td>11739.306440</td>\n",
       "      <td>9617.075310</td>\n",
       "    </tr>\n",
       "    <tr>\n",
       "      <th>1301</th>\n",
       "      <td>9376.115864</td>\n",
       "      <td>9449.789459</td>\n",
       "    </tr>\n",
       "    <tr>\n",
       "      <th>867</th>\n",
       "      <td>8486.027684</td>\n",
       "      <td>9319.604402</td>\n",
       "    </tr>\n",
       "  </tbody>\n",
       "</table>\n",
       "<p>2510 rows × 2 columns</p>\n",
       "</div>"
      ],
      "text/plain": [
       "        State_Name  County_Name\n",
       "2791   8785.308527  9307.811370\n",
       "1798   8227.393750  9397.146451\n",
       "2832   8815.058723  9254.770048\n",
       "1064  10743.889295  9623.238831\n",
       "227    8105.883150  9142.334208\n",
       "...            ...          ...\n",
       "3099   8255.920337  9333.134382\n",
       "1102  10743.889295  9494.318443\n",
       "1137  11739.306440  9617.075310\n",
       "1301   9376.115864  9449.789459\n",
       "867    8486.027684  9319.604402\n",
       "\n",
       "[2510 rows x 2 columns]"
      ]
     },
     "execution_count": 49,
     "metadata": {},
     "output_type": "execute_result"
    }
   ],
   "source": [
    "X_train[['State_Name','County_Name']]"
   ]
  },
  {
   "cell_type": "markdown",
   "id": "975e1354-14e7-44e1-86c4-8c924d09f3b7",
   "metadata": {},
   "source": [
    "### Normalizing\n",
    "- Min-Max Scaling <br>\n",
    "as features have bounded ranges and not following normal distribution"
   ]
  },
  {
   "cell_type": "code",
   "execution_count": 50,
   "id": "fce7ff60-dd88-403f-98cb-66ed235a35aa",
   "metadata": {},
   "outputs": [
    {
     "data": {
      "text/html": [
       "<style>#sk-container-id-2 {color: black;background-color: white;}#sk-container-id-2 pre{padding: 0;}#sk-container-id-2 div.sk-toggleable {background-color: white;}#sk-container-id-2 label.sk-toggleable__label {cursor: pointer;display: block;width: 100%;margin-bottom: 0;padding: 0.3em;box-sizing: border-box;text-align: center;}#sk-container-id-2 label.sk-toggleable__label-arrow:before {content: \"▸\";float: left;margin-right: 0.25em;color: #696969;}#sk-container-id-2 label.sk-toggleable__label-arrow:hover:before {color: black;}#sk-container-id-2 div.sk-estimator:hover label.sk-toggleable__label-arrow:before {color: black;}#sk-container-id-2 div.sk-toggleable__content {max-height: 0;max-width: 0;overflow: hidden;text-align: left;background-color: #f0f8ff;}#sk-container-id-2 div.sk-toggleable__content pre {margin: 0.2em;color: black;border-radius: 0.25em;background-color: #f0f8ff;}#sk-container-id-2 input.sk-toggleable__control:checked~div.sk-toggleable__content {max-height: 200px;max-width: 100%;overflow: auto;}#sk-container-id-2 input.sk-toggleable__control:checked~label.sk-toggleable__label-arrow:before {content: \"▾\";}#sk-container-id-2 div.sk-estimator input.sk-toggleable__control:checked~label.sk-toggleable__label {background-color: #d4ebff;}#sk-container-id-2 div.sk-label input.sk-toggleable__control:checked~label.sk-toggleable__label {background-color: #d4ebff;}#sk-container-id-2 input.sk-hidden--visually {border: 0;clip: rect(1px 1px 1px 1px);clip: rect(1px, 1px, 1px, 1px);height: 1px;margin: -1px;overflow: hidden;padding: 0;position: absolute;width: 1px;}#sk-container-id-2 div.sk-estimator {font-family: monospace;background-color: #f0f8ff;border: 1px dotted black;border-radius: 0.25em;box-sizing: border-box;margin-bottom: 0.5em;}#sk-container-id-2 div.sk-estimator:hover {background-color: #d4ebff;}#sk-container-id-2 div.sk-parallel-item::after {content: \"\";width: 100%;border-bottom: 1px solid gray;flex-grow: 1;}#sk-container-id-2 div.sk-label:hover label.sk-toggleable__label {background-color: #d4ebff;}#sk-container-id-2 div.sk-serial::before {content: \"\";position: absolute;border-left: 1px solid gray;box-sizing: border-box;top: 0;bottom: 0;left: 50%;z-index: 0;}#sk-container-id-2 div.sk-serial {display: flex;flex-direction: column;align-items: center;background-color: white;padding-right: 0.2em;padding-left: 0.2em;position: relative;}#sk-container-id-2 div.sk-item {position: relative;z-index: 1;}#sk-container-id-2 div.sk-parallel {display: flex;align-items: stretch;justify-content: center;background-color: white;position: relative;}#sk-container-id-2 div.sk-item::before, #sk-container-id-2 div.sk-parallel-item::before {content: \"\";position: absolute;border-left: 1px solid gray;box-sizing: border-box;top: 0;bottom: 0;left: 50%;z-index: -1;}#sk-container-id-2 div.sk-parallel-item {display: flex;flex-direction: column;z-index: 1;position: relative;background-color: white;}#sk-container-id-2 div.sk-parallel-item:first-child::after {align-self: flex-end;width: 50%;}#sk-container-id-2 div.sk-parallel-item:last-child::after {align-self: flex-start;width: 50%;}#sk-container-id-2 div.sk-parallel-item:only-child::after {width: 0;}#sk-container-id-2 div.sk-dashed-wrapped {border: 1px dashed gray;margin: 0 0.4em 0.5em 0.4em;box-sizing: border-box;padding-bottom: 0.4em;background-color: white;}#sk-container-id-2 div.sk-label label {font-family: monospace;font-weight: bold;display: inline-block;line-height: 1.2em;}#sk-container-id-2 div.sk-label-container {text-align: center;}#sk-container-id-2 div.sk-container {/* jupyter's `normalize.less` sets `[hidden] { display: none; }` but bootstrap.min.css set `[hidden] { display: none !important; }` so we also need the `!important` here to be able to override the default hidden behavior on the sphinx rendered scikit-learn.org. See: https://github.com/scikit-learn/scikit-learn/issues/21755 */display: inline-block !important;position: relative;}#sk-container-id-2 div.sk-text-repr-fallback {display: none;}</style><div id=\"sk-container-id-2\" class=\"sk-top-container\"><div class=\"sk-text-repr-fallback\"><pre>MinMaxScaler()</pre><b>In a Jupyter environment, please rerun this cell to show the HTML representation or trust the notebook. <br />On GitHub, the HTML representation is unable to render, please try loading this page with nbviewer.org.</b></div><div class=\"sk-container\" hidden><div class=\"sk-item\"><div class=\"sk-estimator sk-toggleable\"><input class=\"sk-toggleable__control sk-hidden--visually\" id=\"sk-estimator-id-2\" type=\"checkbox\" checked><label for=\"sk-estimator-id-2\" class=\"sk-toggleable__label sk-toggleable__label-arrow\">MinMaxScaler</label><div class=\"sk-toggleable__content\"><pre>MinMaxScaler()</pre></div></div></div></div></div>"
      ],
      "text/plain": [
       "MinMaxScaler()"
      ]
     },
     "execution_count": 50,
     "metadata": {},
     "output_type": "execute_result"
    }
   ],
   "source": [
    "scaler = MinMaxScaler()\n",
    "scaler"
   ]
  },
  {
   "cell_type": "code",
   "execution_count": 51,
   "id": "65255175-ab98-468c-b254-acc04a022c04",
   "metadata": {},
   "outputs": [],
   "source": [
    "numerical_cols.remove('Ttl_Mcr_Reim_P_E_14_P_ASRA')"
   ]
  },
  {
   "cell_type": "code",
   "execution_count": 52,
   "id": "5cdac9f2-4073-41a2-b95e-702d27647e2d",
   "metadata": {},
   "outputs": [],
   "source": [
    "#applying scaling to only numeric columns\n",
    "X_train_scaled_numeric = scaler.fit_transform(X_train[numerical_cols])\n",
    "X_test_scaled_numeric = scaler.transform(X_test[numerical_cols])"
   ]
  },
  {
   "cell_type": "code",
   "execution_count": 53,
   "id": "a0473829-26b3-4641-95c1-b74e2695e7f1",
   "metadata": {},
   "outputs": [],
   "source": [
    "X_train[numerical_cols] = X_train_scaled_numeric\n",
    "X_test[numerical_cols] = X_test_scaled_numeric"
   ]
  },
  {
   "cell_type": "markdown",
   "id": "0d77e719-1069-492c-9c71-a33f763954ea",
   "metadata": {},
   "source": [
    "### Model Training & Evaluation "
   ]
  },
  {
   "cell_type": "markdown",
   "id": "8988e633-85ab-4c4e-b7a0-1a8644bc72e8",
   "metadata": {},
   "source": [
    "Will build 3 test model on **Algorithms**\n",
    "\n",
    "- Linear Regression\n",
    "- Random Forest Regression\n",
    "- Gradient Boosting Regression\n",
    "\n",
    "**Evalaution Matrices** \n",
    "\n",
    "- MAE (Mean Absolute Error)\n",
    "- MSE (Mean Squared Error)\n",
    "- RMSE (Root Mean Squared Error)\n",
    "- R-squared (R2 Score)"
   ]
  },
  {
   "cell_type": "markdown",
   "id": "25329ed4-4dbd-4ada-830a-f008db70d8f8",
   "metadata": {},
   "source": [
    "#### Linear Regression"
   ]
  },
  {
   "cell_type": "code",
   "execution_count": 54,
   "id": "32398bca-cd28-43b2-8b10-23d6749e3eb5",
   "metadata": {},
   "outputs": [],
   "source": [
    "lr = LinearRegression()"
   ]
  },
  {
   "cell_type": "code",
   "execution_count": 55,
   "id": "64a06c45-9ffa-4957-9b7f-b670abb429ab",
   "metadata": {},
   "outputs": [
    {
     "data": {
      "text/html": [
       "<style>#sk-container-id-3 {color: black;background-color: white;}#sk-container-id-3 pre{padding: 0;}#sk-container-id-3 div.sk-toggleable {background-color: white;}#sk-container-id-3 label.sk-toggleable__label {cursor: pointer;display: block;width: 100%;margin-bottom: 0;padding: 0.3em;box-sizing: border-box;text-align: center;}#sk-container-id-3 label.sk-toggleable__label-arrow:before {content: \"▸\";float: left;margin-right: 0.25em;color: #696969;}#sk-container-id-3 label.sk-toggleable__label-arrow:hover:before {color: black;}#sk-container-id-3 div.sk-estimator:hover label.sk-toggleable__label-arrow:before {color: black;}#sk-container-id-3 div.sk-toggleable__content {max-height: 0;max-width: 0;overflow: hidden;text-align: left;background-color: #f0f8ff;}#sk-container-id-3 div.sk-toggleable__content pre {margin: 0.2em;color: black;border-radius: 0.25em;background-color: #f0f8ff;}#sk-container-id-3 input.sk-toggleable__control:checked~div.sk-toggleable__content {max-height: 200px;max-width: 100%;overflow: auto;}#sk-container-id-3 input.sk-toggleable__control:checked~label.sk-toggleable__label-arrow:before {content: \"▾\";}#sk-container-id-3 div.sk-estimator input.sk-toggleable__control:checked~label.sk-toggleable__label {background-color: #d4ebff;}#sk-container-id-3 div.sk-label input.sk-toggleable__control:checked~label.sk-toggleable__label {background-color: #d4ebff;}#sk-container-id-3 input.sk-hidden--visually {border: 0;clip: rect(1px 1px 1px 1px);clip: rect(1px, 1px, 1px, 1px);height: 1px;margin: -1px;overflow: hidden;padding: 0;position: absolute;width: 1px;}#sk-container-id-3 div.sk-estimator {font-family: monospace;background-color: #f0f8ff;border: 1px dotted black;border-radius: 0.25em;box-sizing: border-box;margin-bottom: 0.5em;}#sk-container-id-3 div.sk-estimator:hover {background-color: #d4ebff;}#sk-container-id-3 div.sk-parallel-item::after {content: \"\";width: 100%;border-bottom: 1px solid gray;flex-grow: 1;}#sk-container-id-3 div.sk-label:hover label.sk-toggleable__label {background-color: #d4ebff;}#sk-container-id-3 div.sk-serial::before {content: \"\";position: absolute;border-left: 1px solid gray;box-sizing: border-box;top: 0;bottom: 0;left: 50%;z-index: 0;}#sk-container-id-3 div.sk-serial {display: flex;flex-direction: column;align-items: center;background-color: white;padding-right: 0.2em;padding-left: 0.2em;position: relative;}#sk-container-id-3 div.sk-item {position: relative;z-index: 1;}#sk-container-id-3 div.sk-parallel {display: flex;align-items: stretch;justify-content: center;background-color: white;position: relative;}#sk-container-id-3 div.sk-item::before, #sk-container-id-3 div.sk-parallel-item::before {content: \"\";position: absolute;border-left: 1px solid gray;box-sizing: border-box;top: 0;bottom: 0;left: 50%;z-index: -1;}#sk-container-id-3 div.sk-parallel-item {display: flex;flex-direction: column;z-index: 1;position: relative;background-color: white;}#sk-container-id-3 div.sk-parallel-item:first-child::after {align-self: flex-end;width: 50%;}#sk-container-id-3 div.sk-parallel-item:last-child::after {align-self: flex-start;width: 50%;}#sk-container-id-3 div.sk-parallel-item:only-child::after {width: 0;}#sk-container-id-3 div.sk-dashed-wrapped {border: 1px dashed gray;margin: 0 0.4em 0.5em 0.4em;box-sizing: border-box;padding-bottom: 0.4em;background-color: white;}#sk-container-id-3 div.sk-label label {font-family: monospace;font-weight: bold;display: inline-block;line-height: 1.2em;}#sk-container-id-3 div.sk-label-container {text-align: center;}#sk-container-id-3 div.sk-container {/* jupyter's `normalize.less` sets `[hidden] { display: none; }` but bootstrap.min.css set `[hidden] { display: none !important; }` so we also need the `!important` here to be able to override the default hidden behavior on the sphinx rendered scikit-learn.org. See: https://github.com/scikit-learn/scikit-learn/issues/21755 */display: inline-block !important;position: relative;}#sk-container-id-3 div.sk-text-repr-fallback {display: none;}</style><div id=\"sk-container-id-3\" class=\"sk-top-container\"><div class=\"sk-text-repr-fallback\"><pre>LinearRegression()</pre><b>In a Jupyter environment, please rerun this cell to show the HTML representation or trust the notebook. <br />On GitHub, the HTML representation is unable to render, please try loading this page with nbviewer.org.</b></div><div class=\"sk-container\" hidden><div class=\"sk-item\"><div class=\"sk-estimator sk-toggleable\"><input class=\"sk-toggleable__control sk-hidden--visually\" id=\"sk-estimator-id-3\" type=\"checkbox\" checked><label for=\"sk-estimator-id-3\" class=\"sk-toggleable__label sk-toggleable__label-arrow\">LinearRegression</label><div class=\"sk-toggleable__content\"><pre>LinearRegression()</pre></div></div></div></div></div>"
      ],
      "text/plain": [
       "LinearRegression()"
      ]
     },
     "execution_count": 55,
     "metadata": {},
     "output_type": "execute_result"
    }
   ],
   "source": [
    "lr.fit(X_train, y_train)"
   ]
  },
  {
   "cell_type": "code",
   "execution_count": 56,
   "id": "a84a0bf0-f7ab-41f6-846a-d23027162174",
   "metadata": {},
   "outputs": [],
   "source": [
    "y_pred_lr = lr.predict(X_test)"
   ]
  },
  {
   "cell_type": "markdown",
   "id": "8aa50435-47de-4787-8eda-cc633be922f0",
   "metadata": {},
   "source": [
    "##### Evalaution "
   ]
  },
  {
   "cell_type": "code",
   "execution_count": 57,
   "id": "fe2a954f-2946-401b-a86c-b2da9a0ffdb4",
   "metadata": {},
   "outputs": [
    {
     "name": "stdout",
     "output_type": "stream",
     "text": [
      "Linear Regression Metrics:\n",
      "MAE: 10.811312325487746\n",
      "MSE: 1211.9403624643353\n",
      "RMSE: 34.812933838795246\n",
      "R^2: 0.9994180362132126\n"
     ]
    }
   ],
   "source": [
    "mae_lr = mean_absolute_error(y_test, y_pred_lr)\n",
    "mse_lr = mean_squared_error(y_test, y_pred_lr)\n",
    "rmse_lr = mean_squared_error(y_test, y_pred_lr, squared=False)\n",
    "r2_lr = r2_score(y_test, y_pred_lr)\n",
    "\n",
    "print(\"Linear Regression Metrics:\")\n",
    "print(f\"MAE: {mae_lr}\")\n",
    "print(f\"MSE: {mse_lr}\")\n",
    "print(f\"RMSE: {rmse_lr}\")\n",
    "print(f\"R^2: {r2_lr}\")"
   ]
  },
  {
   "cell_type": "markdown",
   "id": "b3e3e928-013e-42da-aaa7-0e9f7d5cdcfc",
   "metadata": {},
   "source": [
    "**Interpretation:**\n",
    "- The model achieves a **high R-squared** value, indicating a strong fit between the predicted and actual values. This means the model can **effectively capture the overall trend** in the data.\n",
    "- However, the **MAE and RMSE** values highlight that the model's **predictions might not be perfectly accurate for every county**. There could be instances where the predicted reimbursements **differ** from the actual values by **more than $30 per enrollee**.\n",
    "\n",
    "Therefore, the linear regression model seems to **effectively capture the general trend in the data but might not provide perfectly accurate predictions for every county**"
   ]
  },
  {
   "cell_type": "markdown",
   "id": "b66196e3-50ae-41ed-8c0e-96c7157d4557",
   "metadata": {},
   "source": [
    "#### Random Forest Regressor"
   ]
  },
  {
   "cell_type": "code",
   "execution_count": 58,
   "id": "a0e322a7-0e87-4a56-bcd5-0d6b17ead73d",
   "metadata": {},
   "outputs": [],
   "source": [
    "rfr= RandomForestRegressor()"
   ]
  },
  {
   "cell_type": "code",
   "execution_count": 59,
   "id": "56b905fb-206a-48b8-871f-7f0ba2d3932f",
   "metadata": {},
   "outputs": [
    {
     "data": {
      "text/html": [
       "<style>#sk-container-id-4 {color: black;background-color: white;}#sk-container-id-4 pre{padding: 0;}#sk-container-id-4 div.sk-toggleable {background-color: white;}#sk-container-id-4 label.sk-toggleable__label {cursor: pointer;display: block;width: 100%;margin-bottom: 0;padding: 0.3em;box-sizing: border-box;text-align: center;}#sk-container-id-4 label.sk-toggleable__label-arrow:before {content: \"▸\";float: left;margin-right: 0.25em;color: #696969;}#sk-container-id-4 label.sk-toggleable__label-arrow:hover:before {color: black;}#sk-container-id-4 div.sk-estimator:hover label.sk-toggleable__label-arrow:before {color: black;}#sk-container-id-4 div.sk-toggleable__content {max-height: 0;max-width: 0;overflow: hidden;text-align: left;background-color: #f0f8ff;}#sk-container-id-4 div.sk-toggleable__content pre {margin: 0.2em;color: black;border-radius: 0.25em;background-color: #f0f8ff;}#sk-container-id-4 input.sk-toggleable__control:checked~div.sk-toggleable__content {max-height: 200px;max-width: 100%;overflow: auto;}#sk-container-id-4 input.sk-toggleable__control:checked~label.sk-toggleable__label-arrow:before {content: \"▾\";}#sk-container-id-4 div.sk-estimator input.sk-toggleable__control:checked~label.sk-toggleable__label {background-color: #d4ebff;}#sk-container-id-4 div.sk-label input.sk-toggleable__control:checked~label.sk-toggleable__label {background-color: #d4ebff;}#sk-container-id-4 input.sk-hidden--visually {border: 0;clip: rect(1px 1px 1px 1px);clip: rect(1px, 1px, 1px, 1px);height: 1px;margin: -1px;overflow: hidden;padding: 0;position: absolute;width: 1px;}#sk-container-id-4 div.sk-estimator {font-family: monospace;background-color: #f0f8ff;border: 1px dotted black;border-radius: 0.25em;box-sizing: border-box;margin-bottom: 0.5em;}#sk-container-id-4 div.sk-estimator:hover {background-color: #d4ebff;}#sk-container-id-4 div.sk-parallel-item::after {content: \"\";width: 100%;border-bottom: 1px solid gray;flex-grow: 1;}#sk-container-id-4 div.sk-label:hover label.sk-toggleable__label {background-color: #d4ebff;}#sk-container-id-4 div.sk-serial::before {content: \"\";position: absolute;border-left: 1px solid gray;box-sizing: border-box;top: 0;bottom: 0;left: 50%;z-index: 0;}#sk-container-id-4 div.sk-serial {display: flex;flex-direction: column;align-items: center;background-color: white;padding-right: 0.2em;padding-left: 0.2em;position: relative;}#sk-container-id-4 div.sk-item {position: relative;z-index: 1;}#sk-container-id-4 div.sk-parallel {display: flex;align-items: stretch;justify-content: center;background-color: white;position: relative;}#sk-container-id-4 div.sk-item::before, #sk-container-id-4 div.sk-parallel-item::before {content: \"\";position: absolute;border-left: 1px solid gray;box-sizing: border-box;top: 0;bottom: 0;left: 50%;z-index: -1;}#sk-container-id-4 div.sk-parallel-item {display: flex;flex-direction: column;z-index: 1;position: relative;background-color: white;}#sk-container-id-4 div.sk-parallel-item:first-child::after {align-self: flex-end;width: 50%;}#sk-container-id-4 div.sk-parallel-item:last-child::after {align-self: flex-start;width: 50%;}#sk-container-id-4 div.sk-parallel-item:only-child::after {width: 0;}#sk-container-id-4 div.sk-dashed-wrapped {border: 1px dashed gray;margin: 0 0.4em 0.5em 0.4em;box-sizing: border-box;padding-bottom: 0.4em;background-color: white;}#sk-container-id-4 div.sk-label label {font-family: monospace;font-weight: bold;display: inline-block;line-height: 1.2em;}#sk-container-id-4 div.sk-label-container {text-align: center;}#sk-container-id-4 div.sk-container {/* jupyter's `normalize.less` sets `[hidden] { display: none; }` but bootstrap.min.css set `[hidden] { display: none !important; }` so we also need the `!important` here to be able to override the default hidden behavior on the sphinx rendered scikit-learn.org. See: https://github.com/scikit-learn/scikit-learn/issues/21755 */display: inline-block !important;position: relative;}#sk-container-id-4 div.sk-text-repr-fallback {display: none;}</style><div id=\"sk-container-id-4\" class=\"sk-top-container\"><div class=\"sk-text-repr-fallback\"><pre>RandomForestRegressor()</pre><b>In a Jupyter environment, please rerun this cell to show the HTML representation or trust the notebook. <br />On GitHub, the HTML representation is unable to render, please try loading this page with nbviewer.org.</b></div><div class=\"sk-container\" hidden><div class=\"sk-item\"><div class=\"sk-estimator sk-toggleable\"><input class=\"sk-toggleable__control sk-hidden--visually\" id=\"sk-estimator-id-4\" type=\"checkbox\" checked><label for=\"sk-estimator-id-4\" class=\"sk-toggleable__label sk-toggleable__label-arrow\">RandomForestRegressor</label><div class=\"sk-toggleable__content\"><pre>RandomForestRegressor()</pre></div></div></div></div></div>"
      ],
      "text/plain": [
       "RandomForestRegressor()"
      ]
     },
     "execution_count": 59,
     "metadata": {},
     "output_type": "execute_result"
    }
   ],
   "source": [
    "rfr.fit(X_train, y_train)"
   ]
  },
  {
   "cell_type": "code",
   "execution_count": 60,
   "id": "63ea335f-db3c-40a4-9c45-a4e77a0fa744",
   "metadata": {},
   "outputs": [],
   "source": [
    "y_pred_rfr = rfr.predict(X_test)"
   ]
  },
  {
   "cell_type": "markdown",
   "id": "0436b01c-3631-4b2d-9565-2cbcd2576b98",
   "metadata": {},
   "source": [
    "##### Evalaution "
   ]
  },
  {
   "cell_type": "code",
   "execution_count": 61,
   "id": "995e9858-96b5-4d4b-a88d-fea8578a52f2",
   "metadata": {},
   "outputs": [
    {
     "name": "stdout",
     "output_type": "stream",
     "text": [
      "Random Forest Regression Metrics:\n",
      "MAE: 252.66603614649654\n",
      "MSE: 161493.67009206454\n",
      "RMSE: 401.8627503166529\n",
      "R^2: 0.9224520688477766\n"
     ]
    }
   ],
   "source": [
    "mae_rfr = mean_absolute_error(y_test, y_pred_rfr)\n",
    "mse_rfr = mean_squared_error(y_test, y_pred_rfr)\n",
    "rmse_rfr = mean_squared_error(y_test, y_pred_rfr, squared=False)\n",
    "r2_rfr = r2_score(y_test, y_pred_rfr)\n",
    "\n",
    "print(\"Random Forest Regression Metrics:\")\n",
    "print(f\"MAE: {mae_rfr}\")\n",
    "print(f\"MSE: {mse_rfr}\")\n",
    "print(f\"RMSE: {rmse_rfr}\")\n",
    "print(f\"R^2: {r2_rfr}\")"
   ]
  },
  {
   "cell_type": "markdown",
   "id": "0023a517-569d-4415-8dc2-9a5d8341aeb9",
   "metadata": {},
   "source": [
    "**Interpretation**\n",
    "- Compared to the linear regression model, the Random Forest Regression model exhibits **lower R-squared** and significantly **higher MAE and RMSE** values. \n",
    "\n",
    "This suggests that the Random Forest model, while still **capturing a substantial portion of the variance** in the data, **might not fit the data** as well as the linear regression model and **might produce larger prediction errors** for individual counties."
   ]
  },
  {
   "cell_type": "markdown",
   "id": "a40034cd-dd87-448c-a84a-8dd6dc38cfd1",
   "metadata": {},
   "source": [
    "Till now, ***Linear Regression Model*** appears to **outperform** the Random Forest Regression model in terms of accurately predicting total Medicare reimbursements per enrollee for this dataset."
   ]
  },
  {
   "cell_type": "markdown",
   "id": "fb9da05d-f09b-43cd-bb23-437cbcc3c6cf",
   "metadata": {},
   "source": [
    "#### Gradient Boosting Regressor"
   ]
  },
  {
   "cell_type": "code",
   "execution_count": 62,
   "id": "ae648ae0-46e8-43c6-b08d-ad24d4a93314",
   "metadata": {},
   "outputs": [],
   "source": [
    "gbr = GradientBoostingRegressor()"
   ]
  },
  {
   "cell_type": "code",
   "execution_count": 63,
   "id": "a45946a9-7118-4e64-a8b8-4f5cffa35735",
   "metadata": {},
   "outputs": [
    {
     "data": {
      "text/html": [
       "<style>#sk-container-id-5 {color: black;background-color: white;}#sk-container-id-5 pre{padding: 0;}#sk-container-id-5 div.sk-toggleable {background-color: white;}#sk-container-id-5 label.sk-toggleable__label {cursor: pointer;display: block;width: 100%;margin-bottom: 0;padding: 0.3em;box-sizing: border-box;text-align: center;}#sk-container-id-5 label.sk-toggleable__label-arrow:before {content: \"▸\";float: left;margin-right: 0.25em;color: #696969;}#sk-container-id-5 label.sk-toggleable__label-arrow:hover:before {color: black;}#sk-container-id-5 div.sk-estimator:hover label.sk-toggleable__label-arrow:before {color: black;}#sk-container-id-5 div.sk-toggleable__content {max-height: 0;max-width: 0;overflow: hidden;text-align: left;background-color: #f0f8ff;}#sk-container-id-5 div.sk-toggleable__content pre {margin: 0.2em;color: black;border-radius: 0.25em;background-color: #f0f8ff;}#sk-container-id-5 input.sk-toggleable__control:checked~div.sk-toggleable__content {max-height: 200px;max-width: 100%;overflow: auto;}#sk-container-id-5 input.sk-toggleable__control:checked~label.sk-toggleable__label-arrow:before {content: \"▾\";}#sk-container-id-5 div.sk-estimator input.sk-toggleable__control:checked~label.sk-toggleable__label {background-color: #d4ebff;}#sk-container-id-5 div.sk-label input.sk-toggleable__control:checked~label.sk-toggleable__label {background-color: #d4ebff;}#sk-container-id-5 input.sk-hidden--visually {border: 0;clip: rect(1px 1px 1px 1px);clip: rect(1px, 1px, 1px, 1px);height: 1px;margin: -1px;overflow: hidden;padding: 0;position: absolute;width: 1px;}#sk-container-id-5 div.sk-estimator {font-family: monospace;background-color: #f0f8ff;border: 1px dotted black;border-radius: 0.25em;box-sizing: border-box;margin-bottom: 0.5em;}#sk-container-id-5 div.sk-estimator:hover {background-color: #d4ebff;}#sk-container-id-5 div.sk-parallel-item::after {content: \"\";width: 100%;border-bottom: 1px solid gray;flex-grow: 1;}#sk-container-id-5 div.sk-label:hover label.sk-toggleable__label {background-color: #d4ebff;}#sk-container-id-5 div.sk-serial::before {content: \"\";position: absolute;border-left: 1px solid gray;box-sizing: border-box;top: 0;bottom: 0;left: 50%;z-index: 0;}#sk-container-id-5 div.sk-serial {display: flex;flex-direction: column;align-items: center;background-color: white;padding-right: 0.2em;padding-left: 0.2em;position: relative;}#sk-container-id-5 div.sk-item {position: relative;z-index: 1;}#sk-container-id-5 div.sk-parallel {display: flex;align-items: stretch;justify-content: center;background-color: white;position: relative;}#sk-container-id-5 div.sk-item::before, #sk-container-id-5 div.sk-parallel-item::before {content: \"\";position: absolute;border-left: 1px solid gray;box-sizing: border-box;top: 0;bottom: 0;left: 50%;z-index: -1;}#sk-container-id-5 div.sk-parallel-item {display: flex;flex-direction: column;z-index: 1;position: relative;background-color: white;}#sk-container-id-5 div.sk-parallel-item:first-child::after {align-self: flex-end;width: 50%;}#sk-container-id-5 div.sk-parallel-item:last-child::after {align-self: flex-start;width: 50%;}#sk-container-id-5 div.sk-parallel-item:only-child::after {width: 0;}#sk-container-id-5 div.sk-dashed-wrapped {border: 1px dashed gray;margin: 0 0.4em 0.5em 0.4em;box-sizing: border-box;padding-bottom: 0.4em;background-color: white;}#sk-container-id-5 div.sk-label label {font-family: monospace;font-weight: bold;display: inline-block;line-height: 1.2em;}#sk-container-id-5 div.sk-label-container {text-align: center;}#sk-container-id-5 div.sk-container {/* jupyter's `normalize.less` sets `[hidden] { display: none; }` but bootstrap.min.css set `[hidden] { display: none !important; }` so we also need the `!important` here to be able to override the default hidden behavior on the sphinx rendered scikit-learn.org. See: https://github.com/scikit-learn/scikit-learn/issues/21755 */display: inline-block !important;position: relative;}#sk-container-id-5 div.sk-text-repr-fallback {display: none;}</style><div id=\"sk-container-id-5\" class=\"sk-top-container\"><div class=\"sk-text-repr-fallback\"><pre>GradientBoostingRegressor()</pre><b>In a Jupyter environment, please rerun this cell to show the HTML representation or trust the notebook. <br />On GitHub, the HTML representation is unable to render, please try loading this page with nbviewer.org.</b></div><div class=\"sk-container\" hidden><div class=\"sk-item\"><div class=\"sk-estimator sk-toggleable\"><input class=\"sk-toggleable__control sk-hidden--visually\" id=\"sk-estimator-id-5\" type=\"checkbox\" checked><label for=\"sk-estimator-id-5\" class=\"sk-toggleable__label sk-toggleable__label-arrow\">GradientBoostingRegressor</label><div class=\"sk-toggleable__content\"><pre>GradientBoostingRegressor()</pre></div></div></div></div></div>"
      ],
      "text/plain": [
       "GradientBoostingRegressor()"
      ]
     },
     "execution_count": 63,
     "metadata": {},
     "output_type": "execute_result"
    }
   ],
   "source": [
    "gbr.fit(X_train, y_train)"
   ]
  },
  {
   "cell_type": "code",
   "execution_count": 64,
   "id": "3ddd53b1-39af-4de2-8902-1dd92e18165c",
   "metadata": {},
   "outputs": [],
   "source": [
    "y_pred_gbr = gbr.predict(X_test)"
   ]
  },
  {
   "cell_type": "markdown",
   "id": "8efb6486-1b2c-4a07-a968-88f14ea011a4",
   "metadata": {},
   "source": [
    "##### Evaluation"
   ]
  },
  {
   "cell_type": "code",
   "execution_count": 65,
   "id": "b671bedf-3373-4499-94c0-37a5a117a94d",
   "metadata": {},
   "outputs": [
    {
     "name": "stdout",
     "output_type": "stream",
     "text": [
      "Gradient Boosting Regression Metrics:\n",
      "MAE: 201.7523783611383\n",
      "MSE: 99606.76340563674\n",
      "RMSE: 315.6053919147085\n",
      "R^2: 0.9521696520583585\n"
     ]
    }
   ],
   "source": [
    "mae_gbr = mean_absolute_error(y_test, y_pred_gbr)\n",
    "mse_gbr = mean_squared_error(y_test, y_pred_gbr)\n",
    "rmse_gbr = mean_squared_error(y_test, y_pred_gbr, squared=False)\n",
    "r2_gbr = r2_score(y_test, y_pred_gbr)\n",
    "\n",
    "print(\"Gradient Boosting Regression Metrics:\")\n",
    "print(f\"MAE: {mae_gbr}\")\n",
    "print(f\"MSE: {mse_gbr}\")\n",
    "print(f\"RMSE: {rmse_gbr}\")\n",
    "print(f\"R^2: {r2_gbr}\")"
   ]
  },
  {
   "cell_type": "markdown",
   "id": "717f4e48-9b17-4899-8783-c14253cd51f2",
   "metadata": {},
   "source": [
    "**Interpretation**\n",
    "- **R^2** indicates that this explains a **substantial portion** of the variance in total Medicare reimbursements, but it's **lower compared to the Linear Regression model**\n",
    "- **MAE** & **RMSE**is lower than the Random Forest model but higher than the Linear Regression model.\n",
    "\n",
    "The **Gradient Boosting Regression** model falls **between** the **Linear Regression and Random Forest** models in terms of performance. \n",
    "\n",
    "**Linear Regression** model remains the **best performer** in terms of **accurately predicting total Medicare reimbursements** per enrollee for this dataset.\r\n",
    "\r\n",
    "However, th**e Gradient Boosting model offers a good balance between capturing complex relationships and achieving reasonable prediction accuracy, potentially outperforming the Random Fore**st model in this specific case."
   ]
  },
  {
   "cell_type": "markdown",
   "id": "c8897217-d703-49d7-bfd1-ceba35eef9f9",
   "metadata": {},
   "source": [
    "#### Comparison table for three models :"
   ]
  },
  {
   "cell_type": "markdown",
   "id": "fbc8213e-8309-4107-8cfe-3b310c3a9d01",
   "metadata": {},
   "source": [
    "| Model                      | MAE          | MSE            | RMSE         | R^2             |\n",
    "|----------------------------|--------------|----------------|--------------|-----------------|\n",
    "| Linear Regression          | 10.81   | 1211.94         | 34.81        | 0.999           |\n",
    "| Random Forest Regression   | 250.75       | 158751.21          | 398.44       |  0.923          |\n",
    "| Gradient Boosting Regression| 202.24     | 100131.45       | 316.43      | 0.951           |\n"
   ]
  },
  {
   "cell_type": "markdown",
   "id": "1b2d78af-3a1b-4120-9940-c24dabe03f77",
   "metadata": {},
   "source": [
    "#### Choosing Best Model - "
   ]
  },
  {
   "cell_type": "markdown",
   "id": "f89ab7bf-8408-4dfb-85cb-f4d52c8bec5c",
   "metadata": {},
   "source": [
    "**Linear Regression** is the **best model for predicting total Medicare reimbursements per enrollee** <br>\n",
    "\n",
    "Because :\n",
    "\n",
    "- **Highest R-squared**: It achieves the highest R-squared value (0.9994), indicating that it explains the most significant portion of the variance in the target variable compared to the other models.\n",
    "- **Lowest Error Metrics**: It exhibits the lowest MAE (10.81) and RMSE (34.81) values, suggesting that its predictions are generally closer to the actual total reimbursements on average and have the least typical deviation from the true values.\n",
    "\n",
    "While the **Gradient Boosting** model also **performs well with a moderate R-squared and lower error metrics compared to Random Forest**, the **Linear Regression** model demonstrates **superior performance** in accurately predicting total reimbursements for individual counties.\n",
    "\n",
    "Therefore, based on the analysis of the metrics and the objective of accurately predicting total Medicare reimbursements, \n",
    "<H4>Linear Regression</H4> stands out as the **best performing** model"
   ]
  },
  {
   "cell_type": "markdown",
   "id": "b2326127-3f93-47e4-8b2e-63b783ae6c2d",
   "metadata": {},
   "source": [
    "## Feature Importance Analysis (for the best-performing model)"
   ]
  },
  {
   "cell_type": "code",
   "execution_count": 66,
   "id": "77d71be9-8450-493c-bc85-f8d5508b9dff",
   "metadata": {},
   "outputs": [],
   "source": [
    "coefficients = lr.coef_\n",
    "feature_names = X.columns"
   ]
  },
  {
   "cell_type": "code",
   "execution_count": 67,
   "id": "1612847c-c6e0-4bbd-9438-fa2ee40dd5c6",
   "metadata": {},
   "outputs": [
    {
     "data": {
      "text/html": [
       "<div>\n",
       "<style scoped>\n",
       "    .dataframe tbody tr th:only-of-type {\n",
       "        vertical-align: middle;\n",
       "    }\n",
       "\n",
       "    .dataframe tbody tr th {\n",
       "        vertical-align: top;\n",
       "    }\n",
       "\n",
       "    .dataframe thead th {\n",
       "        text-align: right;\n",
       "    }\n",
       "</style>\n",
       "<table border=\"1\" class=\"dataframe\">\n",
       "  <thead>\n",
       "    <tr style=\"text-align: right;\">\n",
       "      <th></th>\n",
       "      <th>Feature</th>\n",
       "      <th>Coefficient</th>\n",
       "    </tr>\n",
       "  </thead>\n",
       "  <tbody>\n",
       "    <tr>\n",
       "      <th>4</th>\n",
       "      <td>Ttl_Mcr_Reim_P_E_14_ASRA</td>\n",
       "      <td>1.116107e+04</td>\n",
       "    </tr>\n",
       "    <tr>\n",
       "      <th>6</th>\n",
       "      <td>Hosp_SN_Reim_P_E_14_P_ASRA</td>\n",
       "      <td>7.990009e+03</td>\n",
       "    </tr>\n",
       "    <tr>\n",
       "      <th>10</th>\n",
       "      <td>Outp_Fac_Reim_P_E_14_P_ASRA</td>\n",
       "      <td>5.203952e+03</td>\n",
       "    </tr>\n",
       "    <tr>\n",
       "      <th>8</th>\n",
       "      <td>Phys_Reim_P_E_14_P_ASRA</td>\n",
       "      <td>3.779301e+03</td>\n",
       "    </tr>\n",
       "    <tr>\n",
       "      <th>12</th>\n",
       "      <td>HHA_Reim_P_E_14_P_ASRA</td>\n",
       "      <td>2.702505e+03</td>\n",
       "    </tr>\n",
       "    <tr>\n",
       "      <th>14</th>\n",
       "      <td>Hospice_Reim_P_E_14_P_ASRA</td>\n",
       "      <td>1.585587e+03</td>\n",
       "    </tr>\n",
       "    <tr>\n",
       "      <th>16</th>\n",
       "      <td>DME_Reim_P_E_14_P_ASRA</td>\n",
       "      <td>4.752368e+02</td>\n",
       "    </tr>\n",
       "    <tr>\n",
       "      <th>2</th>\n",
       "      <td>County_Name</td>\n",
       "      <td>1.503457e-02</td>\n",
       "    </tr>\n",
       "    <tr>\n",
       "      <th>0</th>\n",
       "      <td>State_Name</td>\n",
       "      <td>8.626431e-04</td>\n",
       "    </tr>\n",
       "    <tr>\n",
       "      <th>1</th>\n",
       "      <td>County_ID</td>\n",
       "      <td>6.956643e-06</td>\n",
       "    </tr>\n",
       "    <tr>\n",
       "      <th>3</th>\n",
       "      <td>Medicare_Enrollees_2014</td>\n",
       "      <td>-5.895671e-08</td>\n",
       "    </tr>\n",
       "    <tr>\n",
       "      <th>15</th>\n",
       "      <td>DME_Reim_P_E_14_ASRA</td>\n",
       "      <td>-5.105541e+02</td>\n",
       "    </tr>\n",
       "    <tr>\n",
       "      <th>13</th>\n",
       "      <td>Hospice_Reim_P_E_14_ASRA</td>\n",
       "      <td>-1.469709e+03</td>\n",
       "    </tr>\n",
       "    <tr>\n",
       "      <th>11</th>\n",
       "      <td>HHA_Reim_P_E_14_ASRA</td>\n",
       "      <td>-2.616605e+03</td>\n",
       "    </tr>\n",
       "    <tr>\n",
       "      <th>7</th>\n",
       "      <td>Phys_Reim_P_E_14_ASRA</td>\n",
       "      <td>-4.125548e+03</td>\n",
       "    </tr>\n",
       "    <tr>\n",
       "      <th>9</th>\n",
       "      <td>Outp_Fac_Reim_P_E_14_ASRA</td>\n",
       "      <td>-5.062812e+03</td>\n",
       "    </tr>\n",
       "    <tr>\n",
       "      <th>5</th>\n",
       "      <td>Hosp_SN_Reim_P_E_14_ASRA</td>\n",
       "      <td>-7.290042e+03</td>\n",
       "    </tr>\n",
       "  </tbody>\n",
       "</table>\n",
       "</div>"
      ],
      "text/plain": [
       "                        Feature   Coefficient\n",
       "4      Ttl_Mcr_Reim_P_E_14_ASRA  1.116107e+04\n",
       "6    Hosp_SN_Reim_P_E_14_P_ASRA  7.990009e+03\n",
       "10  Outp_Fac_Reim_P_E_14_P_ASRA  5.203952e+03\n",
       "8       Phys_Reim_P_E_14_P_ASRA  3.779301e+03\n",
       "12       HHA_Reim_P_E_14_P_ASRA  2.702505e+03\n",
       "14   Hospice_Reim_P_E_14_P_ASRA  1.585587e+03\n",
       "16       DME_Reim_P_E_14_P_ASRA  4.752368e+02\n",
       "2                   County_Name  1.503457e-02\n",
       "0                    State_Name  8.626431e-04\n",
       "1                     County_ID  6.956643e-06\n",
       "3       Medicare_Enrollees_2014 -5.895671e-08\n",
       "15         DME_Reim_P_E_14_ASRA -5.105541e+02\n",
       "13     Hospice_Reim_P_E_14_ASRA -1.469709e+03\n",
       "11         HHA_Reim_P_E_14_ASRA -2.616605e+03\n",
       "7         Phys_Reim_P_E_14_ASRA -4.125548e+03\n",
       "9     Outp_Fac_Reim_P_E_14_ASRA -5.062812e+03\n",
       "5      Hosp_SN_Reim_P_E_14_ASRA -7.290042e+03"
      ]
     },
     "execution_count": 67,
     "metadata": {},
     "output_type": "execute_result"
    }
   ],
   "source": [
    "coef_df = pd.DataFrame({'Feature': feature_names, 'Coefficient': coefficients})\n",
    "coef_df.sort_values(by='Coefficient', ascending=False, inplace=True)\n",
    "coef_df"
   ]
  },
  {
   "cell_type": "code",
   "execution_count": 68,
   "id": "3cf8a0b6-7c81-4346-bca5-e97bd11f75f3",
   "metadata": {},
   "outputs": [
    {
     "data": {
      "image/png": "[encoded data removed]",
      "text/plain": [
       "<Figure size 1000x600 with 1 Axes>"
      ]
     },
     "metadata": {},
     "output_type": "display_data"
    }
   ],
   "source": [
    "#visualize\n",
    "plt.figure(figsize=(10, 6))\n",
    "plt.barh(coef_df['Feature'], coef_df['Coefficient'])\n",
    "plt.xlabel('Coefficient Value')\n",
    "plt.title('Feature Coefficients for Linear Regression')\n",
    "plt.show()"
   ]
  },
  {
   "cell_type": "markdown",
   "id": "c78da1a3-42a5-49f0-b88e-acb81f7e4e20",
   "metadata": {},
   "source": [
    "**Important Features**:\n",
    "- Total Medicare Reimbursements per Enrollee (Ttl_Mcr_Reim_P_E_14_ASRA) has the strongest positive influence on the target variable.\n",
    "- Hospital Skilled Nursing Reimbursement (Hosp_SN_Reim_P_E_14_P_ASRA) is another significant factor contributing to higher total costs.\n",
    "- Outpatient Facility Reimbursement (Outp_Fac_Reim_P_E_14_P_ASRA),<br>\n",
    "  Physician Reimbursement (Phys_Reim_P_E_14_P_ASRA), and <br>\n",
    "  Home Health Agency Reimbursement (HHA_Reim_P_E_14_P_ASRA) also have positive relationships with total costs, but their influence is weaker compared to the top three features.\n",
    "\n",
    "**Less Important Features**:\n",
    "- County-level characteristics like County_Name, State_Name, and County_ID have minimal impact on total reimbursements.\n",
    "- Medicare_Enrollees_2014 shows a weak negative relationship with total costs, requiring further investigation.\n",
    "- Certain reimbursement variables like DME and Hospice have negative coefficients, potentially indicating an inverse relationship with overall costs that needs further exploration.\n",
    "\n",
    "**Overall**: <br>\n",
    "This analysis highlights the **importance of healthcare spending in specific areas like skilled nursing, outpatient facilities, physicians, and home health agencies as potential drivers of variations in total Medicare reimbursements across counties.**"
   ]
  },
  {
   "cell_type": "markdown",
   "id": "ccadf9b5-3014-471a-8894-aaf17b5c8bbc",
   "metadata": {},
   "source": [
    "## Conclusion"
   ]
  },
  {
   "cell_type": "markdown",
   "id": "bb4af35e-0c1f-4a2d-87fa-00b2d92a12ed",
   "metadata": {},
   "source": [
    "- **Linear regression** effectively predicts Medicare reimbursements (high R-squared).\n",
    "- Key factors influencing costs:\n",
    "    - Hospital skilled nursing reimbursements\n",
    "    - Outpatient facility reimbursements\n",
    "    - Physician reimbursements\n",
    "    - Home health agency reimbursements\n",
    "\n",
    "This analysis provides valuable insights for understanding and potentially managing variations in Medicare costs across counties."
   ]
  },
  {
   "cell_type": "markdown",
   "id": "bbef1672-75d1-45cf-b7d1-4d554f262dd5",
   "metadata": {},
   "source": [
    "## Saving Model"
   ]
  },
  {
   "cell_type": "code",
   "execution_count": 69,
   "id": "6620c80b-82f8-41fb-8c05-57a3e3b8dbb4",
   "metadata": {},
   "outputs": [],
   "source": [
    "import joblib"
   ]
  },
  {
   "cell_type": "code",
   "execution_count": 70,
   "id": "34083a51-485a-49b4-82de-13f89bed21f1",
   "metadata": {},
   "outputs": [
    {
     "data": {
      "text/plain": [
       "['linear_regression_model.pkl']"
      ]
     },
     "execution_count": 70,
     "metadata": {},
     "output_type": "execute_result"
    }
   ],
   "source": [
    "joblib.dump(lr, 'linear_regression_model.pkl')"
   ]
  },
  {
   "cell_type": "code",
   "execution_count": 71,
   "id": "98158cdb-071c-404f-abc2-254b23893215",
   "metadata": {},
   "outputs": [],
   "source": [
    "loaded_model = joblib.load('linear_regression_model.pkl')"
   ]
  }
 ],
 "metadata": {
  "kernelspec": {
   "display_name": "Python 3 (ipykernel)",
   "language": "python",
   "name": "python3"
  },
  "language_info": {
   "codemirror_mode": {
    "name": "ipython",
    "version": 3
   },
   "file_extension": ".py",
   "mimetype": "text/x-python",
   "name": "python",
   "nbconvert_exporter": "python",
   "pygments_lexer": "ipython3",
   "version": "3.11.7"
  }
 },
 "nbformat": 4,
 "nbformat_minor": 5
}
